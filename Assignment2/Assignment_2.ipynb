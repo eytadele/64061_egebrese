{
 "cells": [
  {
   "cell_type": "markdown",
   "metadata": {},
   "source": [
    "### MIS 64061 Assignment_2: Exploring Convolution Networks (convnets) on Image Data\n",
    "#### Eyob Tadele\n",
    "03/27/2022\n",
    "****\n",
    "#### Project Objective\n",
    "The objective of this assignment is to explore and extend the fundamental understanding of concepts in deep learning for computer vision. This is done by changing and modifying some of the convolution network components, with emphasis on trying out varying size of training sets. The Cats and Dogs dataset is used for this project. This project utilizes two approches, training a network from scratch, or using a pre-trained convnet. In order to reduce the risk of overfitting due to small datasets, techniques such as augmentation, regularization, and drop out will be applied.\n",
    "****\n",
    "The following runs of the convnet models will vary depending on the sizes of the training sets selected and its relationship with the choice of models built from scratch versus pre-trained models.\n",
    "\n",
    "**1. Initially starting with a training set of 1000, a validation set of 500, and a test set of 500 from the Cats-vs-Dogs dataset.** \n",
    "In order to reduce overfitting and imporve performance, the first approch applied was data augmentation where we can include random transformations on the training set so as to expose the model to more variations of the image. As such, the augmentation was achieved by applying a horizontal flipping to a random 50% of the images, rotating the image by a random value in the range of -36 to +36 degrees, and zoom in/out the image in the range of -20% to +20%. Additionally, a dropout layer was applied to our model right before the densely connected classifier."
   ]
  },
  {
   "cell_type": "code",
   "execution_count": 1,
   "metadata": {
    "scrolled": true
   },
   "outputs": [
    {
     "data": {
      "text/html": [
       "<table><tr><td><img src='img/1A.png'></td><td><img src='img/1L.png'></td></tr></table>"
      ],
      "text/plain": [
       "<IPython.core.display.HTML object>"
      ]
     },
     "metadata": {},
     "output_type": "display_data"
    }
   ],
   "source": [
    "from IPython.display import HTML, display\n",
    "display(HTML(\"<table><tr><td><img src='img/1A.png'></td><td><img src='img/1L.png'></td></tr></table>\"))"
   ]
  },
  {
   "cell_type": "markdown",
   "metadata": {},
   "source": [
    "As can be observed from the results above, validation set starts to overfit at about 50 epochs. Also, the accuracy on the test set is at **83.8%** as indicated below."
   ]
  },
  {
   "cell_type": "code",
   "execution_count": 2,
   "metadata": {},
   "outputs": [
    {
     "data": {
      "text/html": [
       "<table><tr><td><img src='img/1T.png'></td></tr></table>"
      ],
      "text/plain": [
       "<IPython.core.display.HTML object>"
      ]
     },
     "metadata": {},
     "output_type": "display_data"
    }
   ],
   "source": [
    "from IPython.display import HTML, display\n",
    "display(HTML(\"<table><tr><td><img src='img/1T.png'></td></tr></table>\"))"
   ]
  },
  {
   "cell_type": "markdown",
   "metadata": {},
   "source": [
    "**2. Increasing training sample size to 2000, while maintaining the validation and test sets:**"
   ]
  },
  {
   "cell_type": "code",
   "execution_count": 3,
   "metadata": {},
   "outputs": [
    {
     "data": {
      "text/html": [
       "<table><tr><td><img src='img/2A.png'></td><td><img src='img/2L.png'></td></tr></table>"
      ],
      "text/plain": [
       "<IPython.core.display.HTML object>"
      ]
     },
     "metadata": {},
     "output_type": "display_data"
    }
   ],
   "source": [
    "from IPython.display import HTML, display\n",
    "display(HTML(\"<table><tr><td><img src='img/2A.png'></td><td><img src='img/2L.png'></td></tr></table>\"))"
   ]
  },
  {
   "cell_type": "markdown",
   "metadata": {},
   "source": [
    "As the above results indicate, validation accuracy/loss has slightly improved and it tends to start overfitting around 90 epochs. The test accuracy has also shown a slight improvement to about **84.7%** as indicated below."
   ]
  },
  {
   "cell_type": "code",
   "execution_count": 4,
   "metadata": {},
   "outputs": [
    {
     "data": {
      "text/html": [
       "<table><tr><td><img src='img/2T.png'></td></tr></table>"
      ],
      "text/plain": [
       "<IPython.core.display.HTML object>"
      ]
     },
     "metadata": {},
     "output_type": "display_data"
    }
   ],
   "source": [
    "from IPython.display import HTML, display\n",
    "display(HTML(\"<table><tr><td><img src='img/2T.png'></td></tr></table>\"))"
   ]
  },
  {
   "cell_type": "markdown",
   "metadata": {},
   "source": [
    "**3. Further increasing the training sample to 5000 images and keeping validation and training sets the same.**\n",
    "Based on the trend from the above two steps increasing the size of the training set is expected to improve accuracy of the model."
   ]
  },
  {
   "cell_type": "code",
   "execution_count": 5,
   "metadata": {
    "scrolled": true
   },
   "outputs": [
    {
     "data": {
      "text/html": [
       "<table><tr><td><img src='img/3A.png'></td><td><img src='img/3L.png'></td></tr></table>"
      ],
      "text/plain": [
       "<IPython.core.display.HTML object>"
      ]
     },
     "metadata": {},
     "output_type": "display_data"
    }
   ],
   "source": [
    "from IPython.display import HTML, display\n",
    "display(HTML(\"<table><tr><td><img src='img/3A.png'></td><td><img src='img/3L.png'></td></tr></table>\"))"
   ]
  },
  {
   "cell_type": "markdown",
   "metadata": {},
   "source": [
    "The result above shows that the model above starts to overfit at about 30 epochs, but test accuracy improved to about **92.7%**."
   ]
  },
  {
   "cell_type": "code",
   "execution_count": 6,
   "metadata": {},
   "outputs": [
    {
     "data": {
      "text/html": [
       "<table><tr><td><img src='img/3T.png'></td></tr></table>"
      ],
      "text/plain": [
       "<IPython.core.display.HTML object>"
      ]
     },
     "metadata": {},
     "output_type": "display_data"
    }
   ],
   "source": [
    "from IPython.display import HTML, display\n",
    "display(HTML(\"<table><tr><td><img src='img/3T.png'></td></tr></table>\"))"
   ]
  },
  {
   "cell_type": "markdown",
   "metadata": {},
   "source": [
    "**4. Applying a pre-trained network to the datasets from steps 1-3** \n",
    "Utilizing a model that was previously trained on a large dataset, especially on a large-scale image classification task can be an effective approch to deep learning on a small dataset. In this specific case, a large convnet trained on the ImageNet dataset (1.4 million labeled images and 1,000 different classes). ImageNet contains many animal classes, including different species of cats and dogs, and you can thus expect it to perform\n",
    "well on the dogs-versus-cats classification problem. It will use the VGG16 architecture."
   ]
  },
  {
   "cell_type": "markdown",
   "metadata": {},
   "source": [
    "**4.1.** Using the pretrained model on the original 1000 training dataset, we can see an improvement in validation, as well as test accuracy as shown below: "
   ]
  },
  {
   "cell_type": "code",
   "execution_count": 7,
   "metadata": {},
   "outputs": [
    {
     "data": {
      "text/html": [
       "<table><tr><td><img src='img/41A.png'></td><td><img src='img/41L.png'></td></tr></table>"
      ],
      "text/plain": [
       "<IPython.core.display.HTML object>"
      ]
     },
     "metadata": {},
     "output_type": "display_data"
    }
   ],
   "source": [
    "from IPython.display import HTML, display\n",
    "display(HTML(\"<table><tr><td><img src='img/41A.png'></td><td><img src='img/41L.png'></td></tr></table>\"))"
   ]
  },
  {
   "cell_type": "code",
   "execution_count": 8,
   "metadata": {},
   "outputs": [
    {
     "data": {
      "text/html": [
       "<table><tr><td><img src='img/41T.png'></td></tr></table>"
      ],
      "text/plain": [
       "<IPython.core.display.HTML object>"
      ]
     },
     "metadata": {},
     "output_type": "display_data"
    }
   ],
   "source": [
    "from IPython.display import HTML, display\n",
    "display(HTML(\"<table><tr><td><img src='img/41T.png'></td></tr></table>\"))"
   ]
  },
  {
   "cell_type": "markdown",
   "metadata": {},
   "source": [
    "It can be observed that validation accuracy reaches to about **98%** and test accuracy at **97.5%**. It is a marked improvement over the above three experiments."
   ]
  },
  {
   "cell_type": "markdown",
   "metadata": {},
   "source": [
    "**4.2.** Using the pretrained model on a training dataset of 2000, we can see an improvement in validation, as well as test accuracy as shown below:"
   ]
  },
  {
   "cell_type": "code",
   "execution_count": 9,
   "metadata": {},
   "outputs": [
    {
     "data": {
      "text/html": [
       "<table><tr><td><img src='img/42A.png'></td><td><img src='img/42L.png'></td></tr></table>"
      ],
      "text/plain": [
       "<IPython.core.display.HTML object>"
      ]
     },
     "metadata": {},
     "output_type": "display_data"
    }
   ],
   "source": [
    "from IPython.display import HTML, display\n",
    "display(HTML(\"<table><tr><td><img src='img/42A.png'></td><td><img src='img/42L.png'></td></tr></table>\"))"
   ]
  },
  {
   "cell_type": "code",
   "execution_count": 10,
   "metadata": {},
   "outputs": [
    {
     "data": {
      "text/html": [
       "<table><tr><td><img src='img/42T.png'></td></tr></table>"
      ],
      "text/plain": [
       "<IPython.core.display.HTML object>"
      ]
     },
     "metadata": {},
     "output_type": "display_data"
    }
   ],
   "source": [
    "from IPython.display import HTML, display\n",
    "display(HTML(\"<table><tr><td><img src='img/42T.png'></td></tr></table>\"))"
   ]
  },
  {
   "cell_type": "markdown",
   "metadata": {},
   "source": [
    "We can infer from the results above that the pretrained model still has an improvement of on the 'buld from scratch model' at a test accuracy of **96.6%**. But it is a little unclear on the overfitting figure, as it looks unstable. "
   ]
  },
  {
   "cell_type": "markdown",
   "metadata": {},
   "source": [
    "**4.3.** A further fine-tuning is applied to the pretrained model to improve the model. This was done by increasing the training dataset to 5000, reducing the epoch to 30, freezing the top layers, and lowering the learning rate to limit the magnitude of the modifications. The results of these modifications are as follows:  \n",
    "    "
   ]
  },
  {
   "cell_type": "code",
   "execution_count": 11,
   "metadata": {},
   "outputs": [
    {
     "data": {
      "text/html": [
       "<table><tr><td><img src='img/43A.png'></td><td><img src='img/43L.png'></td></tr></table>"
      ],
      "text/plain": [
       "<IPython.core.display.HTML object>"
      ]
     },
     "metadata": {},
     "output_type": "display_data"
    }
   ],
   "source": [
    "from IPython.display import HTML, display\n",
    "display(HTML(\"<table><tr><td><img src='img/43A.png'></td><td><img src='img/43L.png'></td></tr></table>\"))"
   ]
  },
  {
   "cell_type": "code",
   "execution_count": 12,
   "metadata": {},
   "outputs": [
    {
     "data": {
      "text/html": [
       "<table><tr><td><img src='img/43T.png'></td></tr></table>"
      ],
      "text/plain": [
       "<IPython.core.display.HTML object>"
      ]
     },
     "metadata": {},
     "output_type": "display_data"
    }
   ],
   "source": [
    "from IPython.display import HTML, display\n",
    "display(HTML(\"<table><tr><td><img src='img/43T.png'></td></tr></table>\"))"
   ]
  },
  {
   "cell_type": "markdown",
   "metadata": {},
   "source": [
    "The results above show that the pre-trained model with the fine-tuning modifications can increase the validation accuracy to over **98%** and a test accuracy of **98.2%**."
   ]
  },
  {
   "cell_type": "markdown",
   "metadata": {},
   "source": [
    "**Conclusion:** \n",
    "****\n",
    "Based on a series of observations made by changing the size of the training datasets, we can infer that performance of the model improves as the size of the dataset increases in both 'train-from-scratch' and 'pre-trained' models. However, since the size of the dataset is small, overfitting becomes an issue. In order to address this problem and improve performance, data augmentation and dropout are applied to the train from scratch model. These methods certainly helped in reducing overfitting and improve model performance. In the case of a pre-trained model, it shows a marked improvement over the 'build-from-scratch' model. The pre-trained model also incorporated the concept of freezing and lowering the learning rate to further improve the model. To sum up, the larger the training dataset, the more likelihood for the model to have a higher accuracy and parallel to that modifications can be made to the model aiding in prediction/classification accuracy.\n"
   ]
  },
  {
   "cell_type": "markdown",
   "metadata": {},
   "source": [
    "****\n",
    "****"
   ]
  },
  {
   "cell_type": "markdown",
   "metadata": {},
   "source": [
    "**Reference:** \n",
    "****"
   ]
  },
  {
   "cell_type": "markdown",
   "metadata": {},
   "source": [
    "A detailed run of all the relevant codes are referenced below for further information."
   ]
  },
  {
   "cell_type": "code",
   "execution_count": 1,
   "metadata": {
    "colab": {
     "base_uri": "https://localhost:8080/",
     "height": 86,
     "resources": {
      "http://localhost:8080/nbextensions/google.colab/files.js": {
       "data": "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",
       "headers": [
        [
         "content-type",
         "application/javascript"
        ]
       ],
       "ok": true,
       "status": 200,
       "status_text": ""
      }
     }
    },
    "executionInfo": {
     "elapsed": 9185,
     "status": "ok",
     "timestamp": 1648392460799,
     "user": {
      "displayName": "Eyob Tadele",
      "photoUrl": "https://lh3.googleusercontent.com/a-/AOh14GiqVVKYtMKmfMloUCeWY2ukUo0Cv_7f7MSl9TN-VQ=s64",
      "userId": "02961127894458619855"
     },
     "user_tz": 240
    },
    "id": "3wzp-Z_m1Ykz",
    "outputId": "12501540-e0d9-458b-f18c-122ff861da37"
   },
   "outputs": [
    {
     "data": {
      "text/html": [
       "\n",
       "     <input type=\"file\" id=\"files-69392e76-1336-4816-b0b6-5f7bb6910974\" name=\"files[]\" multiple disabled\n",
       "        style=\"border:none\" />\n",
       "     <output id=\"result-69392e76-1336-4816-b0b6-5f7bb6910974\">\n",
       "      Upload widget is only available when the cell has been executed in the\n",
       "      current browser session. Please rerun this cell to enable.\n",
       "      </output>\n",
       "      <script src=\"/nbextensions/google.colab/files.js\"></script> "
      ],
      "text/plain": [
       "<IPython.core.display.HTML object>"
      ]
     },
     "metadata": {},
     "output_type": "display_data"
    },
    {
     "name": "stdout",
     "output_type": "stream",
     "text": [
      "Saving kaggle.json to kaggle.json\n"
     ]
    },
    {
     "data": {
      "text/plain": [
       "{'kaggle.json': b'{\"username\":\"eytadele\",\"key\":\"e5ce6664a92ff3d4b4fcad4d2acd51f3\"}'}"
      ]
     },
     "execution_count": 1,
     "metadata": {},
     "output_type": "execute_result"
    }
   ],
   "source": [
    "from google.colab import files\n",
    "files.upload()"
   ]
  },
  {
   "cell_type": "code",
   "execution_count": 2,
   "metadata": {
    "executionInfo": {
     "elapsed": 376,
     "status": "ok",
     "timestamp": 1648392483325,
     "user": {
      "displayName": "Eyob Tadele",
      "photoUrl": "https://lh3.googleusercontent.com/a-/AOh14GiqVVKYtMKmfMloUCeWY2ukUo0Cv_7f7MSl9TN-VQ=s64",
      "userId": "02961127894458619855"
     },
     "user_tz": 240
    },
    "id": "rEOchY6R2O1l"
   },
   "outputs": [],
   "source": [
    "!mkdir ~/.kaggle\n",
    "!cp kaggle.json ~/.kaggle/\n",
    "!chmod 600 ~/.kaggle/kaggle.json"
   ]
  },
  {
   "cell_type": "code",
   "execution_count": 3,
   "metadata": {
    "colab": {
     "base_uri": "https://localhost:8080/"
    },
    "executionInfo": {
     "elapsed": 4437,
     "status": "ok",
     "timestamp": 1648392556079,
     "user": {
      "displayName": "Eyob Tadele",
      "photoUrl": "https://lh3.googleusercontent.com/a-/AOh14GiqVVKYtMKmfMloUCeWY2ukUo0Cv_7f7MSl9TN-VQ=s64",
      "userId": "02961127894458619855"
     },
     "user_tz": 240
    },
    "id": "pRzLqAIt2YnM",
    "outputId": "60b83f0a-5426-42ba-b500-9268c5043bc5"
   },
   "outputs": [
    {
     "name": "stdout",
     "output_type": "stream",
     "text": [
      "Downloading dogs-vs-cats.zip to /content\n",
      " 98% 797M/812M [00:03<00:00, 258MB/s]\n",
      "100% 812M/812M [00:03<00:00, 250MB/s]\n"
     ]
    }
   ],
   "source": [
    "!kaggle competitions download -c dogs-vs-cats"
   ]
  },
  {
   "cell_type": "code",
   "execution_count": 4,
   "metadata": {
    "executionInfo": {
     "elapsed": 7366,
     "status": "ok",
     "timestamp": 1648392718873,
     "user": {
      "displayName": "Eyob Tadele",
      "photoUrl": "https://lh3.googleusercontent.com/a-/AOh14GiqVVKYtMKmfMloUCeWY2ukUo0Cv_7f7MSl9TN-VQ=s64",
      "userId": "02961127894458619855"
     },
     "user_tz": 240
    },
    "id": "NBCzDW1x2qTa"
   },
   "outputs": [],
   "source": [
    "!unzip -qq dogs-vs-cats.zip"
   ]
  },
  {
   "cell_type": "code",
   "execution_count": 5,
   "metadata": {
    "executionInfo": {
     "elapsed": 7303,
     "status": "ok",
     "timestamp": 1648392771390,
     "user": {
      "displayName": "Eyob Tadele",
      "photoUrl": "https://lh3.googleusercontent.com/a-/AOh14GiqVVKYtMKmfMloUCeWY2ukUo0Cv_7f7MSl9TN-VQ=s64",
      "userId": "02961127894458619855"
     },
     "user_tz": 240
    },
    "id": "TbD7q5ha3SAz"
   },
   "outputs": [],
   "source": [
    "!unzip -qq train.zip"
   ]
  },
  {
   "cell_type": "code",
   "execution_count": 6,
   "metadata": {
    "executionInfo": {
     "elapsed": 107,
     "status": "ok",
     "timestamp": 1648395039774,
     "user": {
      "displayName": "Eyob Tadele",
      "photoUrl": "https://lh3.googleusercontent.com/a-/AOh14GiqVVKYtMKmfMloUCeWY2ukUo0Cv_7f7MSl9TN-VQ=s64",
      "userId": "02961127894458619855"
     },
     "user_tz": 240
    },
    "id": "ERR0Eeh64SA7"
   },
   "outputs": [],
   "source": [
    "# import relevant libraries and defining file paths for the images\n",
    "import os, shutil, pathlib\n",
    "\n",
    "cat_dog_dir = pathlib.Path(\"train\")\n",
    "cat_dog_new_dir1 = pathlib.Path(\"c_v_d_sample1\")\n",
    "cat_dog_new_dir2 = pathlib.Path(\"c_v_d_sample2\")\n",
    "cat_dog_new_dir3 = pathlib.Path(\"c_v_d_sample3\")\n",
    "\n",
    "\n",
    "# a function definition to create subfolders containing sample images for p1\n",
    "def make_subset1(subset_name, st_idx, e_idx): \n",
    "    for category in (\"cat\", \"dog\"): \n",
    "        dir = cat_dog_new_dir1 / subset_name / category \n",
    "        os.makedirs(dir)\n",
    "        fnames = [f\"{category}.{i}.jpg\" \n",
    "                  for i in range(st_idx, e_idx)]\n",
    "        for fname in fnames: \n",
    "            shutil.copyfile(src=cat_dog_dir / fname, dst=dir / fname)\n",
    "\n",
    "\n",
    "# a function definition to create subfolders containing sample images for p2\n",
    "def make_subset2(subset_name, st_idx, e_idx): \n",
    "    for category in (\"cat\", \"dog\"): \n",
    "        dir = cat_dog_new_dir2 / subset_name / category \n",
    "        os.makedirs(dir)\n",
    "        fnames = [f\"{category}.{i}.jpg\" \n",
    "                  for i in range(st_idx, e_idx)]\n",
    "        for fname in fnames: \n",
    "            shutil.copyfile(src=cat_dog_dir / fname, dst=dir / fname)\n",
    "\n",
    "\n",
    "# a function definition to create subfolders containing sample images for p1\n",
    "def make_subset3(subset_name, st_idx, e_idx): \n",
    "    for category in (\"cat\", \"dog\"): \n",
    "        dir = cat_dog_new_dir3 / subset_name / category \n",
    "        os.makedirs(dir)\n",
    "        fnames = [f\"{category}.{i}.jpg\" \n",
    "                  for i in range(st_idx, e_idx)]\n",
    "        for fname in fnames: \n",
    "            shutil.copyfile(src=cat_dog_dir / fname, dst=dir / fname)\n",
    "\n"
   ]
  },
  {
   "cell_type": "code",
   "execution_count": 7,
   "metadata": {
    "executionInfo": {
     "elapsed": 4250,
     "status": "ok",
     "timestamp": 1648395058075,
     "user": {
      "displayName": "Eyob Tadele",
      "photoUrl": "https://lh3.googleusercontent.com/a-/AOh14GiqVVKYtMKmfMloUCeWY2ukUo0Cv_7f7MSl9TN-VQ=s64",
      "userId": "02961127894458619855"
     },
     "user_tz": 240
    },
    "id": "eBLmLiC47kDu"
   },
   "outputs": [],
   "source": [
    "# function calls to create train, validation, and test sets\n",
    "make_subset1(\"train1\", st_idx=0, e_idx=1000)\n",
    "make_subset1(\"validation1\", st_idx=1000, e_idx=1500)\n",
    "make_subset1(\"test1\", st_idx=1500, e_idx=2000)\n",
    "\n",
    "# function calls to create train, validation, and test sets\n",
    "make_subset2(\"train2\", st_idx=0, e_idx=2000)\n",
    "make_subset2(\"validation2\", st_idx=2000, e_idx=2500)\n",
    "make_subset2(\"test2\", st_idx=2500, e_idx=3000)\n",
    "\n",
    "# function calls to create train, validation, and test sets\n",
    "make_subset3(\"train3\", st_idx=0, e_idx=5000)\n",
    "make_subset3(\"validation3\", st_idx=5000, e_idx=5500)\n",
    "make_subset3(\"test3\", st_idx=5500, e_idx=6000)"
   ]
  },
  {
   "cell_type": "code",
   "execution_count": 8,
   "metadata": {
    "executionInfo": {
     "elapsed": 5935,
     "status": "ok",
     "timestamp": 1648395312077,
     "user": {
      "displayName": "Eyob Tadele",
      "photoUrl": "https://lh3.googleusercontent.com/a-/AOh14GiqVVKYtMKmfMloUCeWY2ukUo0Cv_7f7MSl9TN-VQ=s64",
      "userId": "02961127894458619855"
     },
     "user_tz": 240
    },
    "id": "q2B7yZGYA-c_"
   },
   "outputs": [],
   "source": [
    "# in order to limit overfitting data augmentation technique is built\n",
    "\n",
    "from tensorflow import keras\n",
    "from tensorflow.keras import layers\n",
    "\n",
    "data_augmentation = keras.Sequential(\n",
    "    [\n",
    "        layers.RandomFlip(\"horizontal\"), \n",
    "        layers.RandomRotation(0.1), \n",
    "        layers.RandomZoom(0.2), \n",
    "    ]\n",
    ")"
   ]
  },
  {
   "cell_type": "code",
   "execution_count": 9,
   "metadata": {
    "executionInfo": {
     "elapsed": 1068,
     "status": "ok",
     "timestamp": 1648395361445,
     "user": {
      "displayName": "Eyob Tadele",
      "photoUrl": "https://lh3.googleusercontent.com/a-/AOh14GiqVVKYtMKmfMloUCeWY2ukUo0Cv_7f7MSl9TN-VQ=s64",
      "userId": "02961127894458619855"
     },
     "user_tz": 240
    },
    "id": "iQlnbM-6BGv4"
   },
   "outputs": [],
   "source": [
    "# building a model with multiple stacked Conv2D and MaxPooling2D layers and\n",
    "# a single dense layer with sigmoid activation for the binary classification\n",
    "# data augmentation and dropout are applied to the model to limit overfitting\n",
    "\n",
    "inputs = keras.Input(shape=(180, 180, 3))\n",
    "x = data_augmentation(inputs)\n",
    "x = layers.Rescaling(1./255)(x)\n",
    "x = layers.Conv2D(filters=32, kernel_size=3, activation=\"relu\")(x)\n",
    "x = layers.MaxPooling2D(pool_size=2)(x)\n",
    "x = layers.Conv2D(filters=64, kernel_size=3, activation=\"relu\")(x)\n",
    "x = layers.MaxPooling2D(pool_size=2)(x)\n",
    "x = layers.Conv2D(filters=128, kernel_size=3, activation=\"relu\")(x)\n",
    "x = layers.MaxPooling2D(pool_size=2)(x)\n",
    "x = layers.Conv2D(filters=256, kernel_size=3, activation=\"relu\")(x)\n",
    "x = layers.MaxPooling2D(pool_size=2)(x)\n",
    "x = layers.Conv2D(filters=256, kernel_size=3, activation=\"relu\")(x)\n",
    "x = layers.Flatten()(x)\n",
    "x = layers.Dropout(0.5)(x)\n",
    "outputs = layers.Dense(1, activation=\"sigmoid\")(x)\n",
    "model = keras.Model(inputs=inputs, outputs=outputs)\n",
    "\n",
    "model.compile(loss=\"binary_crossentropy\", \n",
    "              optimizer=\"adam\",\n",
    "              metrics=[\"accuracy\"])"
   ]
  },
  {
   "cell_type": "code",
   "execution_count": 10,
   "metadata": {
    "colab": {
     "base_uri": "https://localhost:8080/"
    },
    "executionInfo": {
     "elapsed": 2112,
     "status": "ok",
     "timestamp": 1648395602352,
     "user": {
      "displayName": "Eyob Tadele",
      "photoUrl": "https://lh3.googleusercontent.com/a-/AOh14GiqVVKYtMKmfMloUCeWY2ukUo0Cv_7f7MSl9TN-VQ=s64",
      "userId": "02961127894458619855"
     },
     "user_tz": 240
    },
    "id": "6iytZHRvBT_B",
    "outputId": "2bbb7a95-a880-4539-a2b1-415128ff0adb"
   },
   "outputs": [
    {
     "name": "stdout",
     "output_type": "stream",
     "text": [
      "Found 2000 files belonging to 2 classes.\n",
      "Found 1000 files belonging to 2 classes.\n",
      "Found 1000 files belonging to 2 classes.\n",
      "Found 4000 files belonging to 2 classes.\n",
      "Found 1000 files belonging to 2 classes.\n",
      "Found 1000 files belonging to 2 classes.\n",
      "Found 10000 files belonging to 2 classes.\n",
      "Found 1000 files belonging to 2 classes.\n",
      "Found 1000 files belonging to 2 classes.\n"
     ]
    }
   ],
   "source": [
    "# formatting images into processed floating point tensors before used by the model\n",
    "\n",
    "from tensorflow.keras.utils import image_dataset_from_directory \n",
    "\n",
    "train_dataset1 = image_dataset_from_directory(\n",
    "    cat_dog_new_dir1 / \"train1\",\n",
    "    image_size=(180, 180),\n",
    "    batch_size=32)\n",
    "validation_dataset1 = image_dataset_from_directory(\n",
    "    cat_dog_new_dir1 / \"validation1\",\n",
    "    image_size=(180, 180),\n",
    "    batch_size=32)\n",
    "test_dataset1 = image_dataset_from_directory(\n",
    "    cat_dog_new_dir1 / \"test1\",\n",
    "    image_size=(180, 180),\n",
    "    batch_size=32)\n",
    "\n",
    "\n",
    "train_dataset2 = image_dataset_from_directory(\n",
    "    cat_dog_new_dir2 / \"train2\",\n",
    "    image_size=(180, 180),\n",
    "    batch_size=32)\n",
    "validation_dataset2 = image_dataset_from_directory(\n",
    "    cat_dog_new_dir2 / \"validation2\",\n",
    "    image_size=(180, 180),\n",
    "    batch_size=32)\n",
    "test_dataset2 = image_dataset_from_directory(\n",
    "    cat_dog_new_dir2 / \"test2\",\n",
    "    image_size=(180, 180),\n",
    "    batch_size=32)\n",
    "\n",
    "\n",
    "train_dataset3 = image_dataset_from_directory(\n",
    "    cat_dog_new_dir3 / \"train3\",\n",
    "    image_size=(180, 180),\n",
    "    batch_size=32)\n",
    "validation_dataset3 = image_dataset_from_directory(\n",
    "    cat_dog_new_dir3 / \"validation3\",\n",
    "    image_size=(180, 180),\n",
    "    batch_size=32)\n",
    "test_dataset3 = image_dataset_from_directory(\n",
    "    cat_dog_new_dir3 / \"test3\",\n",
    "    image_size=(180, 180),\n",
    "    batch_size=32)"
   ]
  },
  {
   "cell_type": "code",
   "execution_count": 11,
   "metadata": {
    "executionInfo": {
     "elapsed": 165,
     "status": "ok",
     "timestamp": 1648395824938,
     "user": {
      "displayName": "Eyob Tadele",
      "photoUrl": "https://lh3.googleusercontent.com/a-/AOh14GiqVVKYtMKmfMloUCeWY2ukUo0Cv_7f7MSl9TN-VQ=s64",
      "userId": "02961127894458619855"
     },
     "user_tz": 240
    },
    "id": "O-e7N3WSCVqM"
   },
   "outputs": [],
   "source": [
    "# setting a callback to save the model after each epoch \n",
    "\n",
    "callbacks1 = [\n",
    "    keras.callbacks.ModelCheckpoint(\n",
    "        filepath=\"convnet_from_scratch_with_augmentation_dropout_Dataset1.keras\",\n",
    "        save_best_only=True,\n",
    "        monitor=\"val_loss\")\n",
    "]\n",
    "\n",
    "\n",
    "callbacks2 = [\n",
    "    keras.callbacks.ModelCheckpoint(\n",
    "        filepath=\"convnet_from_scratch_with_augmentation_dropout_Dataset2.keras\",\n",
    "        save_best_only=True,\n",
    "        monitor=\"val_loss\")\n",
    "]\n",
    "\n",
    "\n",
    "callbacks3 = [\n",
    "    keras.callbacks.ModelCheckpoint(\n",
    "        filepath=\"convnet_from_scratch_with_augmentation_dropout_Dataset3.keras\",\n",
    "        save_best_only=True,\n",
    "        monitor=\"val_loss\")\n",
    "]\n",
    "\n",
    "\n"
   ]
  },
  {
   "cell_type": "code",
   "execution_count": 12,
   "metadata": {
    "colab": {
     "base_uri": "https://localhost:8080/"
    },
    "executionInfo": {
     "elapsed": 1006344,
     "status": "ok",
     "timestamp": 1648396902128,
     "user": {
      "displayName": "Eyob Tadele",
      "photoUrl": "https://lh3.googleusercontent.com/a-/AOh14GiqVVKYtMKmfMloUCeWY2ukUo0Cv_7f7MSl9TN-VQ=s64",
      "userId": "02961127894458619855"
     },
     "user_tz": 240
    },
    "id": "nqYjfHIvDDqC",
    "outputId": "1c08c1a2-4aa4-4bde-fc92-59b239e1515d"
   },
   "outputs": [
    {
     "name": "stdout",
     "output_type": "stream",
     "text": [
      "Epoch 1/100\n",
      "63/63 [==============================] - 22s 162ms/step - loss: 0.6934 - accuracy: 0.5125 - val_loss: 0.6872 - val_accuracy: 0.6100\n",
      "Epoch 2/100\n",
      "63/63 [==============================] - 9s 143ms/step - loss: 0.6914 - accuracy: 0.5180 - val_loss: 0.6915 - val_accuracy: 0.5000\n",
      "Epoch 3/100\n",
      "63/63 [==============================] - 9s 144ms/step - loss: 0.6806 - accuracy: 0.5555 - val_loss: 0.6858 - val_accuracy: 0.5730\n",
      "Epoch 4/100\n",
      "63/63 [==============================] - 9s 145ms/step - loss: 0.6776 - accuracy: 0.5775 - val_loss: 0.6824 - val_accuracy: 0.5580\n",
      "Epoch 5/100\n",
      "63/63 [==============================] - 10s 146ms/step - loss: 0.6342 - accuracy: 0.6470 - val_loss: 0.6574 - val_accuracy: 0.6180\n",
      "Epoch 6/100\n",
      "63/63 [==============================] - 9s 146ms/step - loss: 0.6284 - accuracy: 0.6480 - val_loss: 0.6523 - val_accuracy: 0.6260\n",
      "Epoch 7/100\n",
      "63/63 [==============================] - 9s 146ms/step - loss: 0.6190 - accuracy: 0.6655 - val_loss: 0.6175 - val_accuracy: 0.6470\n",
      "Epoch 8/100\n",
      "63/63 [==============================] - 9s 145ms/step - loss: 0.6012 - accuracy: 0.6880 - val_loss: 0.5949 - val_accuracy: 0.6570\n",
      "Epoch 9/100\n",
      "63/63 [==============================] - 9s 145ms/step - loss: 0.5832 - accuracy: 0.7025 - val_loss: 0.5974 - val_accuracy: 0.6660\n",
      "Epoch 10/100\n",
      "63/63 [==============================] - 9s 145ms/step - loss: 0.5950 - accuracy: 0.6915 - val_loss: 0.6022 - val_accuracy: 0.6510\n",
      "Epoch 11/100\n",
      "63/63 [==============================] - 10s 146ms/step - loss: 0.5609 - accuracy: 0.7175 - val_loss: 0.5833 - val_accuracy: 0.6840\n",
      "Epoch 12/100\n",
      "63/63 [==============================] - 9s 144ms/step - loss: 0.5413 - accuracy: 0.7180 - val_loss: 0.5710 - val_accuracy: 0.7030\n",
      "Epoch 13/100\n",
      "63/63 [==============================] - 9s 144ms/step - loss: 0.5614 - accuracy: 0.7150 - val_loss: 0.5553 - val_accuracy: 0.7150\n",
      "Epoch 14/100\n",
      "63/63 [==============================] - 9s 143ms/step - loss: 0.5374 - accuracy: 0.7275 - val_loss: 0.5445 - val_accuracy: 0.7100\n",
      "Epoch 15/100\n",
      "63/63 [==============================] - 9s 142ms/step - loss: 0.5291 - accuracy: 0.7440 - val_loss: 0.5690 - val_accuracy: 0.7100\n",
      "Epoch 16/100\n",
      "63/63 [==============================] - 9s 144ms/step - loss: 0.5230 - accuracy: 0.7480 - val_loss: 0.5157 - val_accuracy: 0.7380\n",
      "Epoch 17/100\n",
      "63/63 [==============================] - 9s 142ms/step - loss: 0.5017 - accuracy: 0.7540 - val_loss: 0.5381 - val_accuracy: 0.7230\n",
      "Epoch 18/100\n",
      "63/63 [==============================] - 9s 143ms/step - loss: 0.5441 - accuracy: 0.7275 - val_loss: 0.5582 - val_accuracy: 0.7200\n",
      "Epoch 19/100\n",
      "63/63 [==============================] - 9s 143ms/step - loss: 0.4916 - accuracy: 0.7690 - val_loss: 0.4987 - val_accuracy: 0.7650\n",
      "Epoch 20/100\n",
      "63/63 [==============================] - 9s 141ms/step - loss: 0.4880 - accuracy: 0.7605 - val_loss: 0.5412 - val_accuracy: 0.7340\n",
      "Epoch 21/100\n",
      "63/63 [==============================] - 9s 144ms/step - loss: 0.4686 - accuracy: 0.7720 - val_loss: 0.5478 - val_accuracy: 0.7480\n",
      "Epoch 22/100\n",
      "63/63 [==============================] - 9s 145ms/step - loss: 0.4676 - accuracy: 0.7760 - val_loss: 0.5696 - val_accuracy: 0.7170\n",
      "Epoch 23/100\n",
      "63/63 [==============================] - 9s 145ms/step - loss: 0.4376 - accuracy: 0.7970 - val_loss: 0.4695 - val_accuracy: 0.7810\n",
      "Epoch 24/100\n",
      "63/63 [==============================] - 9s 142ms/step - loss: 0.4542 - accuracy: 0.7930 - val_loss: 0.4896 - val_accuracy: 0.7800\n",
      "Epoch 25/100\n",
      "63/63 [==============================] - 9s 142ms/step - loss: 0.4299 - accuracy: 0.7970 - val_loss: 0.5291 - val_accuracy: 0.7600\n",
      "Epoch 26/100\n",
      "63/63 [==============================] - 9s 142ms/step - loss: 0.4299 - accuracy: 0.7970 - val_loss: 0.4979 - val_accuracy: 0.7780\n",
      "Epoch 27/100\n",
      "63/63 [==============================] - 9s 144ms/step - loss: 0.4279 - accuracy: 0.8030 - val_loss: 0.4561 - val_accuracy: 0.7960\n",
      "Epoch 28/100\n",
      "63/63 [==============================] - 9s 142ms/step - loss: 0.3946 - accuracy: 0.8170 - val_loss: 0.4863 - val_accuracy: 0.7750\n",
      "Epoch 29/100\n",
      "63/63 [==============================] - 9s 142ms/step - loss: 0.4341 - accuracy: 0.7975 - val_loss: 0.4991 - val_accuracy: 0.7700\n",
      "Epoch 30/100\n",
      "63/63 [==============================] - 9s 142ms/step - loss: 0.3901 - accuracy: 0.8200 - val_loss: 0.5139 - val_accuracy: 0.7860\n",
      "Epoch 31/100\n",
      "63/63 [==============================] - 9s 141ms/step - loss: 0.3796 - accuracy: 0.8325 - val_loss: 0.5194 - val_accuracy: 0.7690\n",
      "Epoch 32/100\n",
      "63/63 [==============================] - 9s 143ms/step - loss: 0.3680 - accuracy: 0.8350 - val_loss: 0.5126 - val_accuracy: 0.7860\n",
      "Epoch 33/100\n",
      "63/63 [==============================] - 9s 142ms/step - loss: 0.3682 - accuracy: 0.8270 - val_loss: 0.5022 - val_accuracy: 0.7870\n",
      "Epoch 34/100\n",
      "63/63 [==============================] - 9s 143ms/step - loss: 0.3553 - accuracy: 0.8455 - val_loss: 0.5208 - val_accuracy: 0.7690\n",
      "Epoch 35/100\n",
      "63/63 [==============================] - 9s 143ms/step - loss: 0.3601 - accuracy: 0.8415 - val_loss: 0.5134 - val_accuracy: 0.7790\n",
      "Epoch 36/100\n",
      "63/63 [==============================] - 9s 142ms/step - loss: 0.3623 - accuracy: 0.8440 - val_loss: 0.5177 - val_accuracy: 0.7850\n",
      "Epoch 37/100\n",
      "63/63 [==============================] - 9s 142ms/step - loss: 0.3322 - accuracy: 0.8505 - val_loss: 0.4699 - val_accuracy: 0.8130\n",
      "Epoch 38/100\n",
      "63/63 [==============================] - 9s 143ms/step - loss: 0.3248 - accuracy: 0.8590 - val_loss: 0.4500 - val_accuracy: 0.8160\n",
      "Epoch 39/100\n",
      "63/63 [==============================] - 9s 142ms/step - loss: 0.3045 - accuracy: 0.8730 - val_loss: 0.4996 - val_accuracy: 0.8110\n",
      "Epoch 40/100\n",
      "63/63 [==============================] - 9s 142ms/step - loss: 0.3188 - accuracy: 0.8540 - val_loss: 0.5082 - val_accuracy: 0.8050\n",
      "Epoch 41/100\n",
      "63/63 [==============================] - 9s 143ms/step - loss: 0.3287 - accuracy: 0.8535 - val_loss: 0.4546 - val_accuracy: 0.8040\n",
      "Epoch 42/100\n",
      "63/63 [==============================] - 9s 142ms/step - loss: 0.2895 - accuracy: 0.8805 - val_loss: 0.6717 - val_accuracy: 0.7630\n",
      "Epoch 43/100\n",
      "63/63 [==============================] - 9s 143ms/step - loss: 0.3021 - accuracy: 0.8665 - val_loss: 0.4523 - val_accuracy: 0.8110\n",
      "Epoch 44/100\n",
      "63/63 [==============================] - 9s 142ms/step - loss: 0.2802 - accuracy: 0.8775 - val_loss: 0.5059 - val_accuracy: 0.8010\n",
      "Epoch 45/100\n",
      "63/63 [==============================] - 9s 143ms/step - loss: 0.3044 - accuracy: 0.8685 - val_loss: 0.4626 - val_accuracy: 0.8130\n",
      "Epoch 46/100\n",
      "63/63 [==============================] - 9s 143ms/step - loss: 0.2734 - accuracy: 0.8855 - val_loss: 0.4560 - val_accuracy: 0.8200\n",
      "Epoch 47/100\n",
      "63/63 [==============================] - 9s 143ms/step - loss: 0.2713 - accuracy: 0.8845 - val_loss: 0.4743 - val_accuracy: 0.8100\n",
      "Epoch 48/100\n",
      "63/63 [==============================] - 9s 143ms/step - loss: 0.2342 - accuracy: 0.9025 - val_loss: 0.4673 - val_accuracy: 0.8270\n",
      "Epoch 49/100\n",
      "63/63 [==============================] - 9s 142ms/step - loss: 0.2537 - accuracy: 0.8920 - val_loss: 0.4721 - val_accuracy: 0.8250\n",
      "Epoch 50/100\n",
      "63/63 [==============================] - 9s 144ms/step - loss: 0.2790 - accuracy: 0.8840 - val_loss: 0.4307 - val_accuracy: 0.8430\n",
      "Epoch 51/100\n",
      "63/63 [==============================] - 9s 143ms/step - loss: 0.2433 - accuracy: 0.8975 - val_loss: 0.4888 - val_accuracy: 0.8450\n",
      "Epoch 52/100\n",
      "63/63 [==============================] - 9s 142ms/step - loss: 0.2123 - accuracy: 0.9070 - val_loss: 0.5202 - val_accuracy: 0.8370\n",
      "Epoch 53/100\n",
      "63/63 [==============================] - 9s 142ms/step - loss: 0.2295 - accuracy: 0.9020 - val_loss: 0.4963 - val_accuracy: 0.8250\n",
      "Epoch 54/100\n",
      "63/63 [==============================] - 9s 142ms/step - loss: 0.2161 - accuracy: 0.9100 - val_loss: 0.4989 - val_accuracy: 0.8230\n",
      "Epoch 55/100\n",
      "63/63 [==============================] - 9s 143ms/step - loss: 0.2274 - accuracy: 0.9015 - val_loss: 0.4633 - val_accuracy: 0.8370\n",
      "Epoch 56/100\n",
      "63/63 [==============================] - 9s 143ms/step - loss: 0.2357 - accuracy: 0.9035 - val_loss: 0.4396 - val_accuracy: 0.8340\n",
      "Epoch 57/100\n",
      "63/63 [==============================] - 9s 143ms/step - loss: 0.2163 - accuracy: 0.9135 - val_loss: 0.5090 - val_accuracy: 0.8180\n",
      "Epoch 58/100\n",
      "63/63 [==============================] - 9s 143ms/step - loss: 0.2076 - accuracy: 0.9145 - val_loss: 0.4334 - val_accuracy: 0.8330\n",
      "Epoch 59/100\n",
      "63/63 [==============================] - 9s 144ms/step - loss: 0.2025 - accuracy: 0.9175 - val_loss: 0.6326 - val_accuracy: 0.7900\n",
      "Epoch 60/100\n",
      "63/63 [==============================] - 9s 143ms/step - loss: 0.2087 - accuracy: 0.9180 - val_loss: 0.4609 - val_accuracy: 0.8280\n",
      "Epoch 61/100\n",
      "63/63 [==============================] - 9s 142ms/step - loss: 0.2072 - accuracy: 0.9180 - val_loss: 0.7415 - val_accuracy: 0.7890\n",
      "Epoch 62/100\n",
      "63/63 [==============================] - 9s 142ms/step - loss: 0.1863 - accuracy: 0.9215 - val_loss: 0.5650 - val_accuracy: 0.8280\n",
      "Epoch 63/100\n",
      "63/63 [==============================] - 9s 142ms/step - loss: 0.1781 - accuracy: 0.9250 - val_loss: 0.5220 - val_accuracy: 0.8260\n",
      "Epoch 64/100\n",
      "63/63 [==============================] - 9s 143ms/step - loss: 0.1983 - accuracy: 0.9210 - val_loss: 0.4987 - val_accuracy: 0.8300\n",
      "Epoch 65/100\n",
      "63/63 [==============================] - 9s 142ms/step - loss: 0.1859 - accuracy: 0.9245 - val_loss: 0.5796 - val_accuracy: 0.8130\n",
      "Epoch 66/100\n",
      "63/63 [==============================] - 9s 143ms/step - loss: 0.1577 - accuracy: 0.9370 - val_loss: 0.5579 - val_accuracy: 0.8250\n",
      "Epoch 67/100\n",
      "63/63 [==============================] - 9s 142ms/step - loss: 0.1826 - accuracy: 0.9270 - val_loss: 0.5855 - val_accuracy: 0.8190\n",
      "Epoch 68/100\n",
      "63/63 [==============================] - 9s 142ms/step - loss: 0.1591 - accuracy: 0.9350 - val_loss: 0.4929 - val_accuracy: 0.8400\n",
      "Epoch 69/100\n",
      "63/63 [==============================] - 9s 141ms/step - loss: 0.1457 - accuracy: 0.9415 - val_loss: 0.5040 - val_accuracy: 0.8320\n",
      "Epoch 70/100\n",
      "63/63 [==============================] - 9s 142ms/step - loss: 0.1515 - accuracy: 0.9380 - val_loss: 0.6415 - val_accuracy: 0.8220\n",
      "Epoch 71/100\n",
      "63/63 [==============================] - 9s 141ms/step - loss: 0.1395 - accuracy: 0.9455 - val_loss: 0.5707 - val_accuracy: 0.8380\n",
      "Epoch 72/100\n",
      "63/63 [==============================] - 9s 141ms/step - loss: 0.1415 - accuracy: 0.9435 - val_loss: 0.6155 - val_accuracy: 0.8420\n",
      "Epoch 73/100\n",
      "63/63 [==============================] - 9s 142ms/step - loss: 0.1270 - accuracy: 0.9485 - val_loss: 0.6045 - val_accuracy: 0.8290\n",
      "Epoch 74/100\n",
      "63/63 [==============================] - 9s 144ms/step - loss: 0.1136 - accuracy: 0.9565 - val_loss: 0.6317 - val_accuracy: 0.8420\n",
      "Epoch 75/100\n",
      "63/63 [==============================] - 9s 142ms/step - loss: 0.1428 - accuracy: 0.9390 - val_loss: 0.5963 - val_accuracy: 0.8180\n",
      "Epoch 76/100\n",
      "63/63 [==============================] - 9s 141ms/step - loss: 0.1486 - accuracy: 0.9400 - val_loss: 0.5216 - val_accuracy: 0.8310\n",
      "Epoch 77/100\n",
      "63/63 [==============================] - 9s 142ms/step - loss: 0.1401 - accuracy: 0.9460 - val_loss: 0.7054 - val_accuracy: 0.8220\n",
      "Epoch 78/100\n",
      "63/63 [==============================] - 9s 141ms/step - loss: 0.1246 - accuracy: 0.9540 - val_loss: 0.5844 - val_accuracy: 0.8340\n",
      "Epoch 79/100\n",
      "63/63 [==============================] - 9s 141ms/step - loss: 0.1427 - accuracy: 0.9415 - val_loss: 0.5155 - val_accuracy: 0.8430\n",
      "Epoch 80/100\n",
      "63/63 [==============================] - 9s 142ms/step - loss: 0.1302 - accuracy: 0.9505 - val_loss: 0.6165 - val_accuracy: 0.8270\n",
      "Epoch 81/100\n",
      "63/63 [==============================] - 9s 141ms/step - loss: 0.1455 - accuracy: 0.9370 - val_loss: 0.5562 - val_accuracy: 0.8270\n",
      "Epoch 82/100\n",
      "63/63 [==============================] - 9s 141ms/step - loss: 0.1216 - accuracy: 0.9520 - val_loss: 0.5373 - val_accuracy: 0.8240\n",
      "Epoch 83/100\n",
      "63/63 [==============================] - 9s 141ms/step - loss: 0.1360 - accuracy: 0.9440 - val_loss: 0.5833 - val_accuracy: 0.8260\n",
      "Epoch 84/100\n",
      "63/63 [==============================] - 9s 142ms/step - loss: 0.1443 - accuracy: 0.9455 - val_loss: 0.6479 - val_accuracy: 0.8280\n",
      "Epoch 85/100\n",
      "63/63 [==============================] - 9s 141ms/step - loss: 0.1113 - accuracy: 0.9575 - val_loss: 0.6551 - val_accuracy: 0.8280\n",
      "Epoch 86/100\n",
      "63/63 [==============================] - 9s 142ms/step - loss: 0.1066 - accuracy: 0.9595 - val_loss: 0.7074 - val_accuracy: 0.8200\n",
      "Epoch 87/100\n",
      "63/63 [==============================] - 9s 142ms/step - loss: 0.1137 - accuracy: 0.9500 - val_loss: 0.6809 - val_accuracy: 0.8290\n",
      "Epoch 88/100\n",
      "63/63 [==============================] - 9s 141ms/step - loss: 0.1070 - accuracy: 0.9575 - val_loss: 0.7493 - val_accuracy: 0.8110\n",
      "Epoch 89/100\n",
      "63/63 [==============================] - 9s 143ms/step - loss: 0.1123 - accuracy: 0.9570 - val_loss: 0.6367 - val_accuracy: 0.8330\n",
      "Epoch 90/100\n",
      "63/63 [==============================] - 9s 141ms/step - loss: 0.0980 - accuracy: 0.9600 - val_loss: 0.6221 - val_accuracy: 0.8300\n",
      "Epoch 91/100\n",
      "63/63 [==============================] - 9s 142ms/step - loss: 0.1031 - accuracy: 0.9595 - val_loss: 0.6262 - val_accuracy: 0.8380\n",
      "Epoch 92/100\n",
      "63/63 [==============================] - 9s 142ms/step - loss: 0.1031 - accuracy: 0.9570 - val_loss: 0.6884 - val_accuracy: 0.8380\n",
      "Epoch 93/100\n",
      "63/63 [==============================] - 9s 142ms/step - loss: 0.1195 - accuracy: 0.9525 - val_loss: 0.5879 - val_accuracy: 0.8450\n",
      "Epoch 94/100\n",
      "63/63 [==============================] - 9s 142ms/step - loss: 0.0839 - accuracy: 0.9660 - val_loss: 0.6602 - val_accuracy: 0.8500\n",
      "Epoch 95/100\n",
      "63/63 [==============================] - 9s 142ms/step - loss: 0.0961 - accuracy: 0.9635 - val_loss: 0.7464 - val_accuracy: 0.8230\n",
      "Epoch 96/100\n",
      "63/63 [==============================] - 9s 143ms/step - loss: 0.1108 - accuracy: 0.9575 - val_loss: 0.7032 - val_accuracy: 0.8330\n",
      "Epoch 97/100\n",
      "63/63 [==============================] - 9s 142ms/step - loss: 0.1186 - accuracy: 0.9540 - val_loss: 1.0697 - val_accuracy: 0.7980\n",
      "Epoch 98/100\n",
      "63/63 [==============================] - 9s 142ms/step - loss: 0.1210 - accuracy: 0.9540 - val_loss: 0.5947 - val_accuracy: 0.8430\n",
      "Epoch 99/100\n",
      "63/63 [==============================] - 9s 142ms/step - loss: 0.1185 - accuracy: 0.9535 - val_loss: 0.5837 - val_accuracy: 0.8450\n",
      "Epoch 100/100\n",
      "63/63 [==============================] - 9s 142ms/step - loss: 0.0815 - accuracy: 0.9710 - val_loss: 0.7383 - val_accuracy: 0.8390\n"
     ]
    }
   ],
   "source": [
    "# fit the model on the dataset1\n",
    "\n",
    "history1 = model.fit(\n",
    "    train_dataset1,\n",
    "    epochs=100,\n",
    "    validation_data=validation_dataset1,\n",
    "    callbacks=callbacks1)"
   ]
  },
  {
   "cell_type": "code",
   "execution_count": 13,
   "metadata": {
    "colab": {
     "base_uri": "https://localhost:8080/",
     "height": 545
    },
    "executionInfo": {
     "elapsed": 613,
     "status": "ok",
     "timestamp": 1648396984626,
     "user": {
      "displayName": "Eyob Tadele",
      "photoUrl": "https://lh3.googleusercontent.com/a-/AOh14GiqVVKYtMKmfMloUCeWY2ukUo0Cv_7f7MSl9TN-VQ=s64",
      "userId": "02961127894458619855"
     },
     "user_tz": 240
    },
    "id": "icT0CD_XHNA_",
    "outputId": "72b44e3a-7487-4afc-962f-2bdff76b6765"
   },
   "outputs": [
    {
     "data": {
      "image/png": "[encoded data removed]",
      "text/plain": [
       "<Figure size 432x288 with 1 Axes>"
      ]
     },
     "metadata": {
      "needs_background": "light"
     },
     "output_type": "display_data"
    },
    {
     "data": {
      "image/png": "[encoded data removed]",
      "text/plain": [
       "<Figure size 432x288 with 1 Axes>"
      ]
     },
     "metadata": {
      "needs_background": "light"
     },
     "output_type": "display_data"
    }
   ],
   "source": [
    "# plotting accuracy and loss on training and validation \n",
    "\n",
    "import matplotlib.pyplot as plt\n",
    "accuracy = history1.history[\"accuracy\"]\n",
    "val_accuracy = history1.history[\"val_accuracy\"]\n",
    "loss = history1.history[\"loss\"]\n",
    "val_loss = history1.history[\"val_loss\"]\n",
    "epochs = range(1, len(accuracy) + 1)\n",
    "plt.plot(epochs, accuracy, \"bo\", label=\"Training accuracy\")\n",
    "plt.plot(epochs, val_accuracy, \"b\", label=\"Validation accuracy\")\n",
    "plt.title(\"Training and validation accuracy\")\n",
    "plt.legend()\n",
    "plt.figure()\n",
    "plt.plot(epochs, loss, \"bo\", label=\"Training loss\")\n",
    "plt.plot(epochs, val_loss, \"b\", label=\"Validation loss\")\n",
    "plt.title(\"Training and validation loss\")\n",
    "plt.legend()\n",
    "plt.show()"
   ]
  },
  {
   "cell_type": "code",
   "execution_count": 15,
   "metadata": {
    "colab": {
     "base_uri": "https://localhost:8080/"
    },
    "executionInfo": {
     "elapsed": 3076,
     "status": "ok",
     "timestamp": 1648397068525,
     "user": {
      "displayName": "Eyob Tadele",
      "photoUrl": "https://lh3.googleusercontent.com/a-/AOh14GiqVVKYtMKmfMloUCeWY2ukUo0Cv_7f7MSl9TN-VQ=s64",
      "userId": "02961127894458619855"
     },
     "user_tz": 240
    },
    "id": "d2RzbrYfHNw0",
    "outputId": "9e7c3b90-b5ea-48c9-a11f-b0bca6ba3008"
   },
   "outputs": [
    {
     "name": "stdout",
     "output_type": "stream",
     "text": [
      "32/32 [==============================] - 2s 51ms/step - loss: 0.4147 - accuracy: 0.8380\n",
      "Test accuracy: 0.838\n"
     ]
    }
   ],
   "source": [
    "test_model = keras.models.load_model(\n",
    "\"convnet_from_scratch_with_augmentation_dropout_Dataset1.keras\")\n",
    "test_loss, test_acc = test_model.evaluate(test_dataset1)\n",
    "print(f\"Test accuracy: {test_acc:.3f}\")"
   ]
  },
  {
   "cell_type": "code",
   "execution_count": 16,
   "metadata": {
    "colab": {
     "base_uri": "https://localhost:8080/"
    },
    "executionInfo": {
     "elapsed": 1892658,
     "status": "ok",
     "timestamp": 1648399034033,
     "user": {
      "displayName": "Eyob Tadele",
      "photoUrl": "https://lh3.googleusercontent.com/a-/AOh14GiqVVKYtMKmfMloUCeWY2ukUo0Cv_7f7MSl9TN-VQ=s64",
      "userId": "02961127894458619855"
     },
     "user_tz": 240
    },
    "id": "GmUqkBtrH0p8",
    "outputId": "42dd253f-d12b-44b7-afa8-987d14dea89e"
   },
   "outputs": [
    {
     "name": "stdout",
     "output_type": "stream",
     "text": [
      "Epoch 1/100\n",
      "125/125 [==============================] - 17s 130ms/step - loss: 0.3564 - accuracy: 0.8625 - val_loss: 0.3830 - val_accuracy: 0.8500\n",
      "Epoch 2/100\n",
      "125/125 [==============================] - 16s 129ms/step - loss: 0.2868 - accuracy: 0.8823 - val_loss: 0.4005 - val_accuracy: 0.8560\n",
      "Epoch 3/100\n",
      "125/125 [==============================] - 16s 128ms/step - loss: 0.2757 - accuracy: 0.8898 - val_loss: 0.4170 - val_accuracy: 0.8510\n",
      "Epoch 4/100\n",
      "125/125 [==============================] - 17s 130ms/step - loss: 0.2569 - accuracy: 0.8967 - val_loss: 0.3719 - val_accuracy: 0.8580\n",
      "Epoch 5/100\n",
      "125/125 [==============================] - 16s 128ms/step - loss: 0.2240 - accuracy: 0.9128 - val_loss: 0.3732 - val_accuracy: 0.8670\n",
      "Epoch 6/100\n",
      "125/125 [==============================] - 16s 128ms/step - loss: 0.2150 - accuracy: 0.9128 - val_loss: 0.4003 - val_accuracy: 0.8610\n",
      "Epoch 7/100\n",
      "125/125 [==============================] - 17s 130ms/step - loss: 0.2328 - accuracy: 0.9032 - val_loss: 0.3475 - val_accuracy: 0.8680\n",
      "Epoch 8/100\n",
      "125/125 [==============================] - 16s 129ms/step - loss: 0.1969 - accuracy: 0.9197 - val_loss: 0.3859 - val_accuracy: 0.8610\n",
      "Epoch 9/100\n",
      "125/125 [==============================] - 17s 129ms/step - loss: 0.2230 - accuracy: 0.9097 - val_loss: 0.3971 - val_accuracy: 0.8570\n",
      "Epoch 10/100\n",
      "125/125 [==============================] - 16s 129ms/step - loss: 0.2022 - accuracy: 0.9153 - val_loss: 0.3639 - val_accuracy: 0.8650\n",
      "Epoch 11/100\n",
      "125/125 [==============================] - 17s 130ms/step - loss: 0.1961 - accuracy: 0.9247 - val_loss: 0.3454 - val_accuracy: 0.8790\n",
      "Epoch 12/100\n",
      "125/125 [==============================] - 17s 130ms/step - loss: 0.1892 - accuracy: 0.9237 - val_loss: 0.3881 - val_accuracy: 0.8640\n",
      "Epoch 13/100\n",
      "125/125 [==============================] - 16s 128ms/step - loss: 0.1780 - accuracy: 0.9285 - val_loss: 0.3917 - val_accuracy: 0.8720\n",
      "Epoch 14/100\n",
      "125/125 [==============================] - 16s 128ms/step - loss: 0.1920 - accuracy: 0.9218 - val_loss: 0.3791 - val_accuracy: 0.8780\n",
      "Epoch 15/100\n",
      "125/125 [==============================] - 16s 128ms/step - loss: 0.1825 - accuracy: 0.9205 - val_loss: 0.3608 - val_accuracy: 0.8770\n",
      "Epoch 16/100\n",
      "125/125 [==============================] - 16s 128ms/step - loss: 0.1783 - accuracy: 0.9260 - val_loss: 0.3849 - val_accuracy: 0.8730\n",
      "Epoch 17/100\n",
      "125/125 [==============================] - 17s 130ms/step - loss: 0.1539 - accuracy: 0.9392 - val_loss: 0.3439 - val_accuracy: 0.8620\n",
      "Epoch 18/100\n",
      "125/125 [==============================] - 17s 131ms/step - loss: 0.1788 - accuracy: 0.9298 - val_loss: 0.4636 - val_accuracy: 0.8430\n",
      "Epoch 19/100\n",
      "125/125 [==============================] - 17s 130ms/step - loss: 0.1567 - accuracy: 0.9390 - val_loss: 0.3553 - val_accuracy: 0.8820\n",
      "Epoch 20/100\n",
      "125/125 [==============================] - 17s 131ms/step - loss: 0.1600 - accuracy: 0.9365 - val_loss: 0.3906 - val_accuracy: 0.8610\n",
      "Epoch 21/100\n",
      "125/125 [==============================] - 17s 130ms/step - loss: 0.1540 - accuracy: 0.9373 - val_loss: 0.3791 - val_accuracy: 0.8870\n",
      "Epoch 22/100\n",
      "125/125 [==============================] - 16s 129ms/step - loss: 0.1321 - accuracy: 0.9505 - val_loss: 0.4263 - val_accuracy: 0.8900\n",
      "Epoch 23/100\n",
      "125/125 [==============================] - 16s 128ms/step - loss: 0.1658 - accuracy: 0.9310 - val_loss: 0.3723 - val_accuracy: 0.8830\n",
      "Epoch 24/100\n",
      "125/125 [==============================] - 16s 128ms/step - loss: 0.1387 - accuracy: 0.9455 - val_loss: 0.3733 - val_accuracy: 0.8770\n",
      "Epoch 25/100\n",
      "125/125 [==============================] - 16s 128ms/step - loss: 0.1478 - accuracy: 0.9433 - val_loss: 0.4410 - val_accuracy: 0.8600\n",
      "Epoch 26/100\n",
      "125/125 [==============================] - 16s 128ms/step - loss: 0.1207 - accuracy: 0.9535 - val_loss: 0.3950 - val_accuracy: 0.8730\n",
      "Epoch 27/100\n",
      "125/125 [==============================] - 16s 128ms/step - loss: 0.1348 - accuracy: 0.9435 - val_loss: 0.4250 - val_accuracy: 0.8820\n",
      "Epoch 28/100\n",
      "125/125 [==============================] - 16s 129ms/step - loss: 0.1300 - accuracy: 0.9507 - val_loss: 0.3821 - val_accuracy: 0.8820\n",
      "Epoch 29/100\n",
      "125/125 [==============================] - 17s 130ms/step - loss: 0.1471 - accuracy: 0.9427 - val_loss: 0.4070 - val_accuracy: 0.8760\n",
      "Epoch 30/100\n",
      "125/125 [==============================] - 16s 128ms/step - loss: 0.1410 - accuracy: 0.9405 - val_loss: 0.4202 - val_accuracy: 0.8650\n",
      "Epoch 31/100\n",
      "125/125 [==============================] - 16s 129ms/step - loss: 0.1355 - accuracy: 0.9440 - val_loss: 0.4022 - val_accuracy: 0.8840\n",
      "Epoch 32/100\n",
      "125/125 [==============================] - 16s 129ms/step - loss: 0.1337 - accuracy: 0.9442 - val_loss: 0.4372 - val_accuracy: 0.8800\n",
      "Epoch 33/100\n",
      "125/125 [==============================] - 16s 129ms/step - loss: 0.1320 - accuracy: 0.9500 - val_loss: 0.4351 - val_accuracy: 0.8680\n",
      "Epoch 34/100\n",
      "125/125 [==============================] - 16s 129ms/step - loss: 0.1359 - accuracy: 0.9452 - val_loss: 0.3904 - val_accuracy: 0.8930\n",
      "Epoch 35/100\n",
      "125/125 [==============================] - 16s 129ms/step - loss: 0.1268 - accuracy: 0.9510 - val_loss: 0.3965 - val_accuracy: 0.8700\n",
      "Epoch 36/100\n",
      "125/125 [==============================] - 16s 128ms/step - loss: 0.1147 - accuracy: 0.9590 - val_loss: 0.4120 - val_accuracy: 0.8700\n",
      "Epoch 37/100\n",
      "125/125 [==============================] - 16s 129ms/step - loss: 0.1325 - accuracy: 0.9515 - val_loss: 0.3548 - val_accuracy: 0.8890\n",
      "Epoch 38/100\n",
      "125/125 [==============================] - 16s 128ms/step - loss: 0.1183 - accuracy: 0.9520 - val_loss: 0.4224 - val_accuracy: 0.8730\n",
      "Epoch 39/100\n",
      "125/125 [==============================] - 16s 128ms/step - loss: 0.1077 - accuracy: 0.9588 - val_loss: 0.3986 - val_accuracy: 0.8820\n",
      "Epoch 40/100\n",
      "125/125 [==============================] - 16s 129ms/step - loss: 0.1111 - accuracy: 0.9578 - val_loss: 0.4666 - val_accuracy: 0.8660\n",
      "Epoch 41/100\n",
      "125/125 [==============================] - 17s 130ms/step - loss: 0.1255 - accuracy: 0.9517 - val_loss: 0.4022 - val_accuracy: 0.8810\n",
      "Epoch 42/100\n",
      "125/125 [==============================] - 17s 131ms/step - loss: 0.1189 - accuracy: 0.9510 - val_loss: 0.4195 - val_accuracy: 0.8850\n",
      "Epoch 43/100\n",
      "125/125 [==============================] - 17s 131ms/step - loss: 0.1092 - accuracy: 0.9585 - val_loss: 0.3656 - val_accuracy: 0.8930\n",
      "Epoch 44/100\n",
      "125/125 [==============================] - 17s 131ms/step - loss: 0.1144 - accuracy: 0.9550 - val_loss: 0.3728 - val_accuracy: 0.8880\n",
      "Epoch 45/100\n",
      "125/125 [==============================] - 17s 131ms/step - loss: 0.1357 - accuracy: 0.9482 - val_loss: 0.4571 - val_accuracy: 0.8650\n",
      "Epoch 46/100\n",
      "125/125 [==============================] - 17s 130ms/step - loss: 0.1303 - accuracy: 0.9528 - val_loss: 0.4572 - val_accuracy: 0.8730\n",
      "Epoch 47/100\n",
      "125/125 [==============================] - 17s 129ms/step - loss: 0.1033 - accuracy: 0.9605 - val_loss: 0.4185 - val_accuracy: 0.8760\n",
      "Epoch 48/100\n",
      "125/125 [==============================] - 16s 129ms/step - loss: 0.1159 - accuracy: 0.9560 - val_loss: 0.3977 - val_accuracy: 0.8780\n",
      "Epoch 49/100\n",
      "125/125 [==============================] - 16s 129ms/step - loss: 0.0981 - accuracy: 0.9640 - val_loss: 0.3934 - val_accuracy: 0.8870\n",
      "Epoch 50/100\n",
      "125/125 [==============================] - 16s 128ms/step - loss: 0.1214 - accuracy: 0.9542 - val_loss: 0.4068 - val_accuracy: 0.8820\n",
      "Epoch 51/100\n",
      "125/125 [==============================] - 16s 128ms/step - loss: 0.1047 - accuracy: 0.9607 - val_loss: 0.4654 - val_accuracy: 0.8640\n",
      "Epoch 52/100\n",
      "125/125 [==============================] - 16s 129ms/step - loss: 0.1089 - accuracy: 0.9580 - val_loss: 0.4463 - val_accuracy: 0.8760\n",
      "Epoch 53/100\n",
      "125/125 [==============================] - 17s 132ms/step - loss: 0.1195 - accuracy: 0.9555 - val_loss: 0.4552 - val_accuracy: 0.8740\n",
      "Epoch 54/100\n",
      "125/125 [==============================] - 17s 131ms/step - loss: 0.1091 - accuracy: 0.9545 - val_loss: 0.4055 - val_accuracy: 0.8760\n",
      "Epoch 55/100\n",
      "125/125 [==============================] - 17s 130ms/step - loss: 0.0970 - accuracy: 0.9622 - val_loss: 0.4899 - val_accuracy: 0.8730\n",
      "Epoch 56/100\n",
      "125/125 [==============================] - 17s 130ms/step - loss: 0.0901 - accuracy: 0.9665 - val_loss: 0.4692 - val_accuracy: 0.8760\n",
      "Epoch 57/100\n",
      "125/125 [==============================] - 17s 130ms/step - loss: 0.0879 - accuracy: 0.9665 - val_loss: 0.4756 - val_accuracy: 0.8770\n",
      "Epoch 58/100\n",
      "125/125 [==============================] - 16s 129ms/step - loss: 0.1133 - accuracy: 0.9595 - val_loss: 0.4767 - val_accuracy: 0.8690\n",
      "Epoch 59/100\n",
      "125/125 [==============================] - 17s 130ms/step - loss: 0.1081 - accuracy: 0.9575 - val_loss: 0.4467 - val_accuracy: 0.8850\n",
      "Epoch 60/100\n",
      "125/125 [==============================] - 16s 129ms/step - loss: 0.1219 - accuracy: 0.9553 - val_loss: 0.4523 - val_accuracy: 0.8720\n",
      "Epoch 61/100\n",
      "125/125 [==============================] - 16s 129ms/step - loss: 0.1172 - accuracy: 0.9560 - val_loss: 0.4230 - val_accuracy: 0.8890\n",
      "Epoch 62/100\n",
      "125/125 [==============================] - 17s 130ms/step - loss: 0.1074 - accuracy: 0.9588 - val_loss: 0.4170 - val_accuracy: 0.8820\n",
      "Epoch 63/100\n",
      "125/125 [==============================] - 16s 129ms/step - loss: 0.0821 - accuracy: 0.9693 - val_loss: 0.4500 - val_accuracy: 0.8890\n",
      "Epoch 64/100\n",
      "125/125 [==============================] - 16s 129ms/step - loss: 0.1208 - accuracy: 0.9570 - val_loss: 0.4187 - val_accuracy: 0.8890\n",
      "Epoch 65/100\n",
      "125/125 [==============================] - 16s 129ms/step - loss: 0.0783 - accuracy: 0.9690 - val_loss: 0.4948 - val_accuracy: 0.8820\n",
      "Epoch 66/100\n",
      "125/125 [==============================] - 17s 131ms/step - loss: 0.0972 - accuracy: 0.9625 - val_loss: 0.5018 - val_accuracy: 0.8810\n",
      "Epoch 67/100\n",
      "125/125 [==============================] - 17s 130ms/step - loss: 0.1055 - accuracy: 0.9617 - val_loss: 0.4981 - val_accuracy: 0.8740\n",
      "Epoch 68/100\n",
      "125/125 [==============================] - 17s 131ms/step - loss: 0.1207 - accuracy: 0.9563 - val_loss: 0.5222 - val_accuracy: 0.8660\n",
      "Epoch 69/100\n",
      "125/125 [==============================] - 16s 129ms/step - loss: 0.0987 - accuracy: 0.9617 - val_loss: 0.4137 - val_accuracy: 0.8850\n",
      "Epoch 70/100\n",
      "125/125 [==============================] - 17s 130ms/step - loss: 0.0938 - accuracy: 0.9613 - val_loss: 0.4850 - val_accuracy: 0.8690\n",
      "Epoch 71/100\n",
      "125/125 [==============================] - 16s 129ms/step - loss: 0.0995 - accuracy: 0.9630 - val_loss: 0.3535 - val_accuracy: 0.8990\n",
      "Epoch 72/100\n",
      "125/125 [==============================] - 16s 129ms/step - loss: 0.0841 - accuracy: 0.9678 - val_loss: 0.4361 - val_accuracy: 0.8830\n",
      "Epoch 73/100\n",
      "125/125 [==============================] - 16s 129ms/step - loss: 0.0985 - accuracy: 0.9572 - val_loss: 0.4123 - val_accuracy: 0.8920\n",
      "Epoch 74/100\n",
      "125/125 [==============================] - 16s 129ms/step - loss: 0.0945 - accuracy: 0.9650 - val_loss: 0.3889 - val_accuracy: 0.8930\n",
      "Epoch 75/100\n",
      "125/125 [==============================] - 16s 129ms/step - loss: 0.0687 - accuracy: 0.9735 - val_loss: 0.4487 - val_accuracy: 0.8960\n",
      "Epoch 76/100\n",
      "125/125 [==============================] - 16s 129ms/step - loss: 0.0799 - accuracy: 0.9718 - val_loss: 0.5180 - val_accuracy: 0.8840\n",
      "Epoch 77/100\n",
      "125/125 [==============================] - 16s 129ms/step - loss: 0.0887 - accuracy: 0.9703 - val_loss: 0.5460 - val_accuracy: 0.8770\n",
      "Epoch 78/100\n",
      "125/125 [==============================] - 17s 130ms/step - loss: 0.0992 - accuracy: 0.9668 - val_loss: 0.4785 - val_accuracy: 0.8740\n",
      "Epoch 79/100\n",
      "125/125 [==============================] - 16s 129ms/step - loss: 0.0932 - accuracy: 0.9660 - val_loss: 0.4607 - val_accuracy: 0.8600\n",
      "Epoch 80/100\n",
      "125/125 [==============================] - 16s 128ms/step - loss: 0.0956 - accuracy: 0.9635 - val_loss: 0.4977 - val_accuracy: 0.8670\n",
      "Epoch 81/100\n",
      "125/125 [==============================] - 16s 129ms/step - loss: 0.0913 - accuracy: 0.9640 - val_loss: 0.4765 - val_accuracy: 0.8820\n",
      "Epoch 82/100\n",
      "125/125 [==============================] - 16s 129ms/step - loss: 0.1045 - accuracy: 0.9578 - val_loss: 0.4932 - val_accuracy: 0.8780\n",
      "Epoch 83/100\n",
      "125/125 [==============================] - 16s 129ms/step - loss: 0.1081 - accuracy: 0.9617 - val_loss: 0.5033 - val_accuracy: 0.8650\n",
      "Epoch 84/100\n",
      "125/125 [==============================] - 17s 130ms/step - loss: 0.0784 - accuracy: 0.9700 - val_loss: 0.4459 - val_accuracy: 0.8850\n",
      "Epoch 85/100\n",
      "125/125 [==============================] - 16s 129ms/step - loss: 0.0891 - accuracy: 0.9672 - val_loss: 0.4267 - val_accuracy: 0.8840\n",
      "Epoch 86/100\n",
      "125/125 [==============================] - 17s 130ms/step - loss: 0.0832 - accuracy: 0.9680 - val_loss: 0.4645 - val_accuracy: 0.8860\n",
      "Epoch 87/100\n",
      "125/125 [==============================] - 16s 129ms/step - loss: 0.1046 - accuracy: 0.9628 - val_loss: 0.4087 - val_accuracy: 0.8840\n",
      "Epoch 88/100\n",
      "125/125 [==============================] - 16s 129ms/step - loss: 0.0953 - accuracy: 0.9647 - val_loss: 0.4832 - val_accuracy: 0.8930\n",
      "Epoch 89/100\n",
      "125/125 [==============================] - 16s 128ms/step - loss: 0.0836 - accuracy: 0.9682 - val_loss: 0.4495 - val_accuracy: 0.8920\n",
      "Epoch 90/100\n",
      "125/125 [==============================] - 16s 128ms/step - loss: 0.0756 - accuracy: 0.9718 - val_loss: 0.4707 - val_accuracy: 0.8930\n",
      "Epoch 91/100\n",
      "125/125 [==============================] - 16s 128ms/step - loss: 0.0816 - accuracy: 0.9718 - val_loss: 0.4980 - val_accuracy: 0.9000\n",
      "Epoch 92/100\n",
      "125/125 [==============================] - 16s 128ms/step - loss: 0.0888 - accuracy: 0.9680 - val_loss: 0.5312 - val_accuracy: 0.8830\n",
      "Epoch 93/100\n",
      "125/125 [==============================] - 16s 129ms/step - loss: 0.0945 - accuracy: 0.9647 - val_loss: 0.4709 - val_accuracy: 0.8740\n",
      "Epoch 94/100\n",
      "125/125 [==============================] - 16s 128ms/step - loss: 0.1031 - accuracy: 0.9615 - val_loss: 0.3643 - val_accuracy: 0.8950\n",
      "Epoch 95/100\n",
      "125/125 [==============================] - 16s 128ms/step - loss: 0.0796 - accuracy: 0.9695 - val_loss: 0.4638 - val_accuracy: 0.8790\n",
      "Epoch 96/100\n",
      "125/125 [==============================] - 16s 129ms/step - loss: 0.0647 - accuracy: 0.9745 - val_loss: 0.5382 - val_accuracy: 0.8950\n",
      "Epoch 97/100\n",
      "125/125 [==============================] - 16s 129ms/step - loss: 0.0778 - accuracy: 0.9710 - val_loss: 0.4767 - val_accuracy: 0.8930\n",
      "Epoch 98/100\n",
      "125/125 [==============================] - 16s 128ms/step - loss: 0.0941 - accuracy: 0.9665 - val_loss: 0.5330 - val_accuracy: 0.8780\n",
      "Epoch 99/100\n",
      "125/125 [==============================] - 16s 129ms/step - loss: 0.1190 - accuracy: 0.9600 - val_loss: 0.5284 - val_accuracy: 0.8600\n",
      "Epoch 100/100\n",
      "125/125 [==============================] - 17s 130ms/step - loss: 0.0919 - accuracy: 0.9665 - val_loss: 0.3826 - val_accuracy: 0.8910\n"
     ]
    }
   ],
   "source": [
    "# fit the model on the dataset1\n",
    "\n",
    "history2 = model.fit(\n",
    "    train_dataset2,\n",
    "    epochs=100,\n",
    "    validation_data=validation_dataset2,\n",
    "    callbacks=callbacks2)"
   ]
  },
  {
   "cell_type": "code",
   "execution_count": 17,
   "metadata": {
    "colab": {
     "base_uri": "https://localhost:8080/",
     "height": 545
    },
    "executionInfo": {
     "elapsed": 663,
     "status": "ok",
     "timestamp": 1648399154645,
     "user": {
      "displayName": "Eyob Tadele",
      "photoUrl": "https://lh3.googleusercontent.com/a-/AOh14GiqVVKYtMKmfMloUCeWY2ukUo0Cv_7f7MSl9TN-VQ=s64",
      "userId": "02961127894458619855"
     },
     "user_tz": 240
    },
    "id": "g77LIMI8PWkI",
    "outputId": "516670fc-3ca6-4099-bf01-27994efdb403"
   },
   "outputs": [
    {
     "data": {
      "image/png": "[encoded data removed]",
      "text/plain": [
       "<Figure size 432x288 with 1 Axes>"
      ]
     },
     "metadata": {
      "needs_background": "light"
     },
     "output_type": "display_data"
    },
    {
     "data": {
      "image/png": "[encoded data removed]",
      "text/plain": [
       "<Figure size 432x288 with 1 Axes>"
      ]
     },
     "metadata": {
      "needs_background": "light"
     },
     "output_type": "display_data"
    }
   ],
   "source": [
    "# plotting accuracy and loss on training and validation \n",
    "\n",
    "import matplotlib.pyplot as plt\n",
    "accuracy = history2.history[\"accuracy\"]\n",
    "val_accuracy = history2.history[\"val_accuracy\"]\n",
    "loss = history2.history[\"loss\"]\n",
    "val_loss = history2.history[\"val_loss\"]\n",
    "epochs = range(1, len(accuracy) + 1)\n",
    "plt.plot(epochs, accuracy, \"bo\", label=\"Training accuracy\")\n",
    "plt.plot(epochs, val_accuracy, \"b\", label=\"Validation accuracy\")\n",
    "plt.title(\"Training and validation accuracy\")\n",
    "plt.legend()\n",
    "plt.figure()\n",
    "plt.plot(epochs, loss, \"bo\", label=\"Training loss\")\n",
    "plt.plot(epochs, val_loss, \"b\", label=\"Validation loss\")\n",
    "plt.title(\"Training and validation loss\")\n",
    "plt.legend()\n",
    "plt.show()"
   ]
  },
  {
   "cell_type": "code",
   "execution_count": 18,
   "metadata": {
    "colab": {
     "base_uri": "https://localhost:8080/"
    },
    "executionInfo": {
     "elapsed": 2504,
     "status": "ok",
     "timestamp": 1648399188792,
     "user": {
      "displayName": "Eyob Tadele",
      "photoUrl": "https://lh3.googleusercontent.com/a-/AOh14GiqVVKYtMKmfMloUCeWY2ukUo0Cv_7f7MSl9TN-VQ=s64",
      "userId": "02961127894458619855"
     },
     "user_tz": 240
    },
    "id": "YEUyaW2TPW03",
    "outputId": "8c8ed6a9-1455-45d8-c22d-4d62d1dae38a"
   },
   "outputs": [
    {
     "name": "stdout",
     "output_type": "stream",
     "text": [
      "32/32 [==============================] - 2s 52ms/step - loss: 0.4505 - accuracy: 0.8470\n",
      "Test accuracy: 0.847\n"
     ]
    }
   ],
   "source": [
    "test_model = keras.models.load_model(\n",
    "\"convnet_from_scratch_with_augmentation_dropout_Dataset2.keras\")\n",
    "test_loss, test_acc = test_model.evaluate(test_dataset2)\n",
    "print(f\"Test accuracy: {test_acc:.3f}\")"
   ]
  },
  {
   "cell_type": "code",
   "execution_count": 19,
   "metadata": {
    "colab": {
     "base_uri": "https://localhost:8080/"
    },
    "executionInfo": {
     "elapsed": 3954671,
     "status": "ok",
     "timestamp": 1648403244335,
     "user": {
      "displayName": "Eyob Tadele",
      "photoUrl": "https://lh3.googleusercontent.com/a-/AOh14GiqVVKYtMKmfMloUCeWY2ukUo0Cv_7f7MSl9TN-VQ=s64",
      "userId": "02961127894458619855"
     },
     "user_tz": 240
    },
    "id": "s53__6cpP6mw",
    "outputId": "8ffe9896-19ad-4497-c815-c0c9cae62cb3"
   },
   "outputs": [
    {
     "name": "stdout",
     "output_type": "stream",
     "text": [
      "Epoch 1/100\n",
      "313/313 [==============================] - 38s 120ms/step - loss: 0.2982 - accuracy: 0.8856 - val_loss: 0.3011 - val_accuracy: 0.8950\n",
      "Epoch 2/100\n",
      "313/313 [==============================] - 39s 121ms/step - loss: 0.2300 - accuracy: 0.9068 - val_loss: 0.2494 - val_accuracy: 0.9030\n",
      "Epoch 3/100\n",
      "313/313 [==============================] - 38s 121ms/step - loss: 0.2246 - accuracy: 0.9095 - val_loss: 0.2365 - val_accuracy: 0.9140\n",
      "Epoch 4/100\n",
      "313/313 [==============================] - 38s 120ms/step - loss: 0.2195 - accuracy: 0.9080 - val_loss: 0.2437 - val_accuracy: 0.9060\n",
      "Epoch 5/100\n",
      "313/313 [==============================] - 38s 119ms/step - loss: 0.1956 - accuracy: 0.9185 - val_loss: 0.2063 - val_accuracy: 0.9210\n",
      "Epoch 6/100\n",
      "313/313 [==============================] - 38s 119ms/step - loss: 0.1983 - accuracy: 0.9228 - val_loss: 0.2245 - val_accuracy: 0.9180\n",
      "Epoch 7/100\n",
      "313/313 [==============================] - 38s 119ms/step - loss: 0.1939 - accuracy: 0.9201 - val_loss: 0.2103 - val_accuracy: 0.9230\n",
      "Epoch 8/100\n",
      "313/313 [==============================] - 38s 120ms/step - loss: 0.1889 - accuracy: 0.9242 - val_loss: 0.2350 - val_accuracy: 0.9100\n",
      "Epoch 9/100\n",
      "313/313 [==============================] - 38s 120ms/step - loss: 0.1909 - accuracy: 0.9227 - val_loss: 0.2320 - val_accuracy: 0.9160\n",
      "Epoch 10/100\n",
      "313/313 [==============================] - 38s 119ms/step - loss: 0.1829 - accuracy: 0.9263 - val_loss: 0.2352 - val_accuracy: 0.9230\n",
      "Epoch 11/100\n",
      "313/313 [==============================] - 38s 119ms/step - loss: 0.1937 - accuracy: 0.9218 - val_loss: 0.2508 - val_accuracy: 0.9160\n",
      "Epoch 12/100\n",
      "313/313 [==============================] - 38s 119ms/step - loss: 0.1745 - accuracy: 0.9306 - val_loss: 0.2145 - val_accuracy: 0.9210\n",
      "Epoch 13/100\n",
      "313/313 [==============================] - 38s 119ms/step - loss: 0.1751 - accuracy: 0.9293 - val_loss: 0.2344 - val_accuracy: 0.9170\n",
      "Epoch 14/100\n",
      "313/313 [==============================] - 38s 120ms/step - loss: 0.1753 - accuracy: 0.9306 - val_loss: 0.1924 - val_accuracy: 0.9360\n",
      "Epoch 15/100\n",
      "313/313 [==============================] - 38s 119ms/step - loss: 0.1660 - accuracy: 0.9305 - val_loss: 0.2190 - val_accuracy: 0.9100\n",
      "Epoch 16/100\n",
      "313/313 [==============================] - 38s 119ms/step - loss: 0.1563 - accuracy: 0.9372 - val_loss: 0.2192 - val_accuracy: 0.9230\n",
      "Epoch 17/100\n",
      "313/313 [==============================] - 38s 120ms/step - loss: 0.1799 - accuracy: 0.9269 - val_loss: 0.2629 - val_accuracy: 0.9020\n",
      "Epoch 18/100\n",
      "313/313 [==============================] - 38s 120ms/step - loss: 0.1696 - accuracy: 0.9321 - val_loss: 0.2659 - val_accuracy: 0.9140\n",
      "Epoch 19/100\n",
      "313/313 [==============================] - 38s 119ms/step - loss: 0.1797 - accuracy: 0.9273 - val_loss: 0.2339 - val_accuracy: 0.9140\n",
      "Epoch 20/100\n",
      "313/313 [==============================] - 38s 119ms/step - loss: 0.1630 - accuracy: 0.9341 - val_loss: 0.2357 - val_accuracy: 0.9130\n",
      "Epoch 21/100\n",
      "313/313 [==============================] - 38s 119ms/step - loss: 0.1642 - accuracy: 0.9371 - val_loss: 0.2564 - val_accuracy: 0.9060\n",
      "Epoch 22/100\n",
      "313/313 [==============================] - 38s 119ms/step - loss: 0.1620 - accuracy: 0.9359 - val_loss: 0.2204 - val_accuracy: 0.9180\n",
      "Epoch 23/100\n",
      "313/313 [==============================] - 38s 119ms/step - loss: 0.1549 - accuracy: 0.9364 - val_loss: 0.2452 - val_accuracy: 0.9000\n",
      "Epoch 24/100\n",
      "313/313 [==============================] - 38s 119ms/step - loss: 0.1539 - accuracy: 0.9405 - val_loss: 0.2266 - val_accuracy: 0.9150\n",
      "Epoch 25/100\n",
      "313/313 [==============================] - 38s 120ms/step - loss: 0.1420 - accuracy: 0.9449 - val_loss: 0.2415 - val_accuracy: 0.9120\n",
      "Epoch 26/100\n",
      "313/313 [==============================] - 38s 120ms/step - loss: 0.1402 - accuracy: 0.9433 - val_loss: 0.2183 - val_accuracy: 0.9200\n",
      "Epoch 27/100\n",
      "313/313 [==============================] - 38s 119ms/step - loss: 0.1538 - accuracy: 0.9358 - val_loss: 0.2268 - val_accuracy: 0.9140\n",
      "Epoch 28/100\n",
      "313/313 [==============================] - 38s 119ms/step - loss: 0.1444 - accuracy: 0.9430 - val_loss: 0.2262 - val_accuracy: 0.9180\n",
      "Epoch 29/100\n",
      "313/313 [==============================] - 38s 119ms/step - loss: 0.1444 - accuracy: 0.9449 - val_loss: 0.2187 - val_accuracy: 0.9140\n",
      "Epoch 30/100\n",
      "313/313 [==============================] - 38s 120ms/step - loss: 0.1474 - accuracy: 0.9407 - val_loss: 0.1881 - val_accuracy: 0.9260\n",
      "Epoch 31/100\n",
      "313/313 [==============================] - 38s 120ms/step - loss: 0.1508 - accuracy: 0.9416 - val_loss: 0.2194 - val_accuracy: 0.9200\n",
      "Epoch 32/100\n",
      "313/313 [==============================] - 38s 120ms/step - loss: 0.1543 - accuracy: 0.9386 - val_loss: 0.2304 - val_accuracy: 0.9140\n",
      "Epoch 33/100\n",
      "313/313 [==============================] - 38s 119ms/step - loss: 0.1387 - accuracy: 0.9458 - val_loss: 0.2247 - val_accuracy: 0.9300\n",
      "Epoch 34/100\n",
      "313/313 [==============================] - 38s 119ms/step - loss: 0.1442 - accuracy: 0.9418 - val_loss: 0.2017 - val_accuracy: 0.9360\n",
      "Epoch 35/100\n",
      "313/313 [==============================] - 37s 119ms/step - loss: 0.1373 - accuracy: 0.9473 - val_loss: 0.2390 - val_accuracy: 0.9060\n",
      "Epoch 36/100\n",
      "313/313 [==============================] - 38s 119ms/step - loss: 0.1307 - accuracy: 0.9492 - val_loss: 0.2041 - val_accuracy: 0.9340\n",
      "Epoch 37/100\n",
      "313/313 [==============================] - 38s 119ms/step - loss: 0.1355 - accuracy: 0.9465 - val_loss: 0.2157 - val_accuracy: 0.9080\n",
      "Epoch 38/100\n",
      "313/313 [==============================] - 37s 119ms/step - loss: 0.1395 - accuracy: 0.9446 - val_loss: 0.2383 - val_accuracy: 0.9220\n",
      "Epoch 39/100\n",
      "313/313 [==============================] - 38s 119ms/step - loss: 0.1453 - accuracy: 0.9456 - val_loss: 0.2320 - val_accuracy: 0.9240\n",
      "Epoch 40/100\n",
      "313/313 [==============================] - 37s 119ms/step - loss: 0.1374 - accuracy: 0.9489 - val_loss: 0.2187 - val_accuracy: 0.9270\n",
      "Epoch 41/100\n",
      "313/313 [==============================] - 37s 119ms/step - loss: 0.1351 - accuracy: 0.9454 - val_loss: 0.2095 - val_accuracy: 0.9300\n",
      "Epoch 42/100\n",
      "313/313 [==============================] - 38s 119ms/step - loss: 0.1459 - accuracy: 0.9422 - val_loss: 0.2249 - val_accuracy: 0.9310\n",
      "Epoch 43/100\n",
      "313/313 [==============================] - 38s 119ms/step - loss: 0.1239 - accuracy: 0.9512 - val_loss: 0.2436 - val_accuracy: 0.9210\n",
      "Epoch 44/100\n",
      "313/313 [==============================] - 38s 119ms/step - loss: 0.1324 - accuracy: 0.9463 - val_loss: 0.2194 - val_accuracy: 0.9350\n",
      "Epoch 45/100\n",
      "313/313 [==============================] - 37s 119ms/step - loss: 0.1281 - accuracy: 0.9509 - val_loss: 0.2236 - val_accuracy: 0.9280\n",
      "Epoch 46/100\n",
      "313/313 [==============================] - 37s 119ms/step - loss: 0.1388 - accuracy: 0.9444 - val_loss: 0.2148 - val_accuracy: 0.9140\n",
      "Epoch 47/100\n",
      "313/313 [==============================] - 38s 119ms/step - loss: 0.1330 - accuracy: 0.9456 - val_loss: 0.2175 - val_accuracy: 0.9280\n",
      "Epoch 48/100\n",
      "313/313 [==============================] - 38s 120ms/step - loss: 0.1371 - accuracy: 0.9431 - val_loss: 0.1878 - val_accuracy: 0.9280\n",
      "Epoch 49/100\n",
      "313/313 [==============================] - 38s 120ms/step - loss: 0.1414 - accuracy: 0.9445 - val_loss: 0.2274 - val_accuracy: 0.9260\n",
      "Epoch 50/100\n",
      "313/313 [==============================] - 38s 119ms/step - loss: 0.1286 - accuracy: 0.9489 - val_loss: 0.2414 - val_accuracy: 0.9350\n",
      "Epoch 51/100\n",
      "313/313 [==============================] - 38s 120ms/step - loss: 0.1412 - accuracy: 0.9452 - val_loss: 0.2298 - val_accuracy: 0.9200\n",
      "Epoch 52/100\n",
      "313/313 [==============================] - 38s 119ms/step - loss: 0.1256 - accuracy: 0.9464 - val_loss: 0.2696 - val_accuracy: 0.9240\n",
      "Epoch 53/100\n",
      "313/313 [==============================] - 38s 119ms/step - loss: 0.1275 - accuracy: 0.9526 - val_loss: 0.2658 - val_accuracy: 0.9220\n",
      "Epoch 54/100\n",
      "313/313 [==============================] - 38s 120ms/step - loss: 0.1440 - accuracy: 0.9423 - val_loss: 0.2648 - val_accuracy: 0.9210\n",
      "Epoch 55/100\n",
      "313/313 [==============================] - 38s 120ms/step - loss: 0.1308 - accuracy: 0.9478 - val_loss: 0.2351 - val_accuracy: 0.9240\n",
      "Epoch 56/100\n",
      "313/313 [==============================] - 37s 119ms/step - loss: 0.1314 - accuracy: 0.9498 - val_loss: 0.2700 - val_accuracy: 0.9110\n",
      "Epoch 57/100\n",
      "313/313 [==============================] - 38s 119ms/step - loss: 0.1208 - accuracy: 0.9533 - val_loss: 0.2531 - val_accuracy: 0.9110\n",
      "Epoch 58/100\n",
      "313/313 [==============================] - 37s 119ms/step - loss: 0.1220 - accuracy: 0.9525 - val_loss: 0.2599 - val_accuracy: 0.9040\n",
      "Epoch 59/100\n",
      "313/313 [==============================] - 37s 119ms/step - loss: 0.1347 - accuracy: 0.9464 - val_loss: 0.2477 - val_accuracy: 0.9140\n",
      "Epoch 60/100\n",
      "313/313 [==============================] - 38s 119ms/step - loss: 0.1245 - accuracy: 0.9525 - val_loss: 0.2467 - val_accuracy: 0.9310\n",
      "Epoch 61/100\n",
      "313/313 [==============================] - 37s 118ms/step - loss: 0.1174 - accuracy: 0.9535 - val_loss: 0.2454 - val_accuracy: 0.9270\n",
      "Epoch 62/100\n",
      "313/313 [==============================] - 38s 119ms/step - loss: 0.1294 - accuracy: 0.9462 - val_loss: 0.3068 - val_accuracy: 0.9150\n",
      "Epoch 63/100\n",
      "313/313 [==============================] - 38s 119ms/step - loss: 0.1288 - accuracy: 0.9517 - val_loss: 0.2224 - val_accuracy: 0.9300\n",
      "Epoch 64/100\n",
      "313/313 [==============================] - 38s 120ms/step - loss: 0.1158 - accuracy: 0.9536 - val_loss: 0.2324 - val_accuracy: 0.9280\n",
      "Epoch 65/100\n",
      "313/313 [==============================] - 38s 120ms/step - loss: 0.1235 - accuracy: 0.9527 - val_loss: 0.2563 - val_accuracy: 0.9210\n",
      "Epoch 66/100\n",
      "313/313 [==============================] - 38s 120ms/step - loss: 0.1233 - accuracy: 0.9499 - val_loss: 0.2187 - val_accuracy: 0.9320\n",
      "Epoch 67/100\n",
      "313/313 [==============================] - 38s 120ms/step - loss: 0.1229 - accuracy: 0.9516 - val_loss: 0.2731 - val_accuracy: 0.9300\n",
      "Epoch 68/100\n",
      "313/313 [==============================] - 38s 120ms/step - loss: 0.1250 - accuracy: 0.9535 - val_loss: 0.2473 - val_accuracy: 0.9270\n",
      "Epoch 69/100\n",
      "313/313 [==============================] - 38s 120ms/step - loss: 0.1250 - accuracy: 0.9533 - val_loss: 0.3069 - val_accuracy: 0.9150\n",
      "Epoch 70/100\n",
      "313/313 [==============================] - 38s 119ms/step - loss: 0.1215 - accuracy: 0.9548 - val_loss: 0.2723 - val_accuracy: 0.9080\n",
      "Epoch 71/100\n",
      "313/313 [==============================] - 38s 120ms/step - loss: 0.1213 - accuracy: 0.9544 - val_loss: 0.2296 - val_accuracy: 0.9350\n",
      "Epoch 72/100\n",
      "313/313 [==============================] - 38s 121ms/step - loss: 0.1201 - accuracy: 0.9512 - val_loss: 0.3319 - val_accuracy: 0.9190\n",
      "Epoch 73/100\n",
      "313/313 [==============================] - 38s 121ms/step - loss: 0.1205 - accuracy: 0.9514 - val_loss: 0.2241 - val_accuracy: 0.9340\n",
      "Epoch 74/100\n",
      "313/313 [==============================] - 38s 120ms/step - loss: 0.1031 - accuracy: 0.9586 - val_loss: 0.2722 - val_accuracy: 0.9210\n",
      "Epoch 75/100\n",
      "313/313 [==============================] - 38s 121ms/step - loss: 0.1258 - accuracy: 0.9532 - val_loss: 0.2655 - val_accuracy: 0.9310\n",
      "Epoch 76/100\n",
      "313/313 [==============================] - 38s 120ms/step - loss: 0.1264 - accuracy: 0.9514 - val_loss: 0.2342 - val_accuracy: 0.9270\n",
      "Epoch 77/100\n",
      "313/313 [==============================] - 38s 120ms/step - loss: 0.1150 - accuracy: 0.9569 - val_loss: 0.2620 - val_accuracy: 0.9180\n",
      "Epoch 78/100\n",
      "313/313 [==============================] - 38s 121ms/step - loss: 0.1195 - accuracy: 0.9538 - val_loss: 0.2151 - val_accuracy: 0.9290\n",
      "Epoch 79/100\n",
      "313/313 [==============================] - 38s 121ms/step - loss: 0.1258 - accuracy: 0.9527 - val_loss: 0.2884 - val_accuracy: 0.9290\n",
      "Epoch 80/100\n",
      "313/313 [==============================] - 38s 121ms/step - loss: 0.1274 - accuracy: 0.9516 - val_loss: 0.2171 - val_accuracy: 0.9350\n",
      "Epoch 81/100\n",
      "313/313 [==============================] - 38s 121ms/step - loss: 0.1117 - accuracy: 0.9569 - val_loss: 0.2461 - val_accuracy: 0.9250\n",
      "Epoch 82/100\n",
      "313/313 [==============================] - 38s 121ms/step - loss: 0.1179 - accuracy: 0.9566 - val_loss: 0.2272 - val_accuracy: 0.9370\n",
      "Epoch 83/100\n",
      "313/313 [==============================] - 38s 121ms/step - loss: 0.1289 - accuracy: 0.9502 - val_loss: 0.2827 - val_accuracy: 0.9160\n",
      "Epoch 84/100\n",
      "313/313 [==============================] - 38s 121ms/step - loss: 0.1147 - accuracy: 0.9567 - val_loss: 0.2428 - val_accuracy: 0.9280\n",
      "Epoch 85/100\n",
      "313/313 [==============================] - 38s 121ms/step - loss: 0.1103 - accuracy: 0.9566 - val_loss: 0.2625 - val_accuracy: 0.9240\n",
      "Epoch 86/100\n",
      "313/313 [==============================] - 38s 121ms/step - loss: 0.1166 - accuracy: 0.9552 - val_loss: 0.2426 - val_accuracy: 0.9310\n",
      "Epoch 87/100\n",
      "313/313 [==============================] - 38s 122ms/step - loss: 0.1226 - accuracy: 0.9547 - val_loss: 0.2671 - val_accuracy: 0.9280\n",
      "Epoch 88/100\n",
      "313/313 [==============================] - 38s 122ms/step - loss: 0.1064 - accuracy: 0.9566 - val_loss: 0.2503 - val_accuracy: 0.9240\n",
      "Epoch 89/100\n",
      "313/313 [==============================] - 38s 122ms/step - loss: 0.1092 - accuracy: 0.9592 - val_loss: 0.2621 - val_accuracy: 0.9280\n",
      "Epoch 90/100\n",
      "313/313 [==============================] - 38s 122ms/step - loss: 0.1090 - accuracy: 0.9582 - val_loss: 0.2323 - val_accuracy: 0.9320\n",
      "Epoch 91/100\n",
      "313/313 [==============================] - 38s 121ms/step - loss: 0.1150 - accuracy: 0.9553 - val_loss: 0.2401 - val_accuracy: 0.9220\n",
      "Epoch 92/100\n",
      "313/313 [==============================] - 38s 121ms/step - loss: 0.1153 - accuracy: 0.9554 - val_loss: 0.2920 - val_accuracy: 0.9250\n",
      "Epoch 93/100\n",
      "313/313 [==============================] - 38s 122ms/step - loss: 0.1315 - accuracy: 0.9479 - val_loss: 0.3267 - val_accuracy: 0.9220\n",
      "Epoch 94/100\n",
      "313/313 [==============================] - 38s 121ms/step - loss: 0.1202 - accuracy: 0.9527 - val_loss: 0.2636 - val_accuracy: 0.9240\n",
      "Epoch 95/100\n",
      "313/313 [==============================] - 38s 121ms/step - loss: 0.1160 - accuracy: 0.9574 - val_loss: 0.2983 - val_accuracy: 0.9180\n",
      "Epoch 96/100\n",
      "313/313 [==============================] - 38s 121ms/step - loss: 0.1062 - accuracy: 0.9592 - val_loss: 0.2614 - val_accuracy: 0.9330\n",
      "Epoch 97/100\n",
      "313/313 [==============================] - 38s 121ms/step - loss: 0.1129 - accuracy: 0.9573 - val_loss: 0.2209 - val_accuracy: 0.9280\n",
      "Epoch 98/100\n",
      "313/313 [==============================] - 38s 121ms/step - loss: 0.1128 - accuracy: 0.9549 - val_loss: 0.2263 - val_accuracy: 0.9330\n",
      "Epoch 99/100\n",
      "313/313 [==============================] - 38s 120ms/step - loss: 0.1091 - accuracy: 0.9586 - val_loss: 0.2300 - val_accuracy: 0.9270\n",
      "Epoch 100/100\n",
      "313/313 [==============================] - 38s 120ms/step - loss: 0.1125 - accuracy: 0.9576 - val_loss: 0.2889 - val_accuracy: 0.9220\n"
     ]
    }
   ],
   "source": [
    "# fit the model on the dataset1\n",
    "\n",
    "history3 = model.fit(\n",
    "    train_dataset3,\n",
    "    epochs=100,\n",
    "    validation_data=validation_dataset3,\n",
    "    callbacks=callbacks3)"
   ]
  },
  {
   "cell_type": "code",
   "execution_count": 20,
   "metadata": {
    "colab": {
     "base_uri": "https://localhost:8080/",
     "height": 545
    },
    "executionInfo": {
     "elapsed": 722,
     "status": "ok",
     "timestamp": 1648403330225,
     "user": {
      "displayName": "Eyob Tadele",
      "photoUrl": "https://lh3.googleusercontent.com/a-/AOh14GiqVVKYtMKmfMloUCeWY2ukUo0Cv_7f7MSl9TN-VQ=s64",
      "userId": "02961127894458619855"
     },
     "user_tz": 240
    },
    "id": "EiAe16EQP6xb",
    "outputId": "2448a1ed-2cfb-46b0-d24a-e1efbd97c235"
   },
   "outputs": [
    {
     "data": {
      "image/png": "[encoded data removed]",
      "text/plain": [
       "<Figure size 432x288 with 1 Axes>"
      ]
     },
     "metadata": {
      "needs_background": "light"
     },
     "output_type": "display_data"
    },
    {
     "data": {
      "image/png": "[encoded data removed]",
      "text/plain": [
       "<Figure size 432x288 with 1 Axes>"
      ]
     },
     "metadata": {
      "needs_background": "light"
     },
     "output_type": "display_data"
    }
   ],
   "source": [
    "# plotting accuracy and loss on training and validation \n",
    "\n",
    "import matplotlib.pyplot as plt\n",
    "accuracy = history3.history[\"accuracy\"]\n",
    "val_accuracy = history3.history[\"val_accuracy\"]\n",
    "loss = history3.history[\"loss\"]\n",
    "val_loss = history3.history[\"val_loss\"]\n",
    "epochs = range(1, len(accuracy) + 1)\n",
    "plt.plot(epochs, accuracy, \"bo\", label=\"Training accuracy\")\n",
    "plt.plot(epochs, val_accuracy, \"b\", label=\"Validation accuracy\")\n",
    "plt.title(\"Training and validation accuracy\")\n",
    "plt.legend()\n",
    "plt.figure()\n",
    "plt.plot(epochs, loss, \"bo\", label=\"Training loss\")\n",
    "plt.plot(epochs, val_loss, \"b\", label=\"Validation loss\")\n",
    "plt.title(\"Training and validation loss\")\n",
    "plt.legend()\n",
    "plt.show()"
   ]
  },
  {
   "cell_type": "code",
   "execution_count": 21,
   "metadata": {
    "colab": {
     "base_uri": "https://localhost:8080/"
    },
    "executionInfo": {
     "elapsed": 3197,
     "status": "ok",
     "timestamp": 1648403420504,
     "user": {
      "displayName": "Eyob Tadele",
      "photoUrl": "https://lh3.googleusercontent.com/a-/AOh14GiqVVKYtMKmfMloUCeWY2ukUo0Cv_7f7MSl9TN-VQ=s64",
      "userId": "02961127894458619855"
     },
     "user_tz": 240
    },
    "id": "9hXIEWZrfxMA",
    "outputId": "0b24b6dd-1823-4e16-fa7e-744461b61319"
   },
   "outputs": [
    {
     "name": "stdout",
     "output_type": "stream",
     "text": [
      "32/32 [==============================] - 2s 53ms/step - loss: 0.2109 - accuracy: 0.9270\n",
      "Test accuracy: 0.927\n"
     ]
    }
   ],
   "source": [
    "test_model = keras.models.load_model(\n",
    "\"convnet_from_scratch_with_augmentation_dropout_Dataset3.keras\")\n",
    "test_loss, test_acc = test_model.evaluate(test_dataset3)\n",
    "print(f\"Test accuracy: {test_acc:.3f}\")"
   ]
  },
  {
   "cell_type": "markdown",
   "metadata": {
    "id": "wDYQIjzIgDtP"
   },
   "source": [
    "4. Repeat Steps 1-3, but now using a pretrained network. The sample sizes you use in Steps 2 and 3 for the pretrained network may be the same or different from those using the network where you trained from scratch. Again, use any and all optimization techniques to get best performance."
   ]
  },
  {
   "cell_type": "code",
   "execution_count": 22,
   "metadata": {
    "colab": {
     "base_uri": "https://localhost:8080/"
    },
    "executionInfo": {
     "elapsed": 801,
     "status": "ok",
     "timestamp": 1648404358869,
     "user": {
      "displayName": "Eyob Tadele",
      "photoUrl": "https://lh3.googleusercontent.com/a-/AOh14GiqVVKYtMKmfMloUCeWY2ukUo0Cv_7f7MSl9TN-VQ=s64",
      "userId": "02961127894458619855"
     },
     "user_tz": 240
    },
    "id": "XdZU2DEKgJjg",
    "outputId": "91675c06-9a62-40bc-bc6d-4a87d9b78231"
   },
   "outputs": [
    {
     "name": "stdout",
     "output_type": "stream",
     "text": [
      "Downloading data from https://storage.googleapis.com/tensorflow/keras-applications/vgg16/vgg16_weights_tf_dim_ordering_tf_kernels_notop.h5\n",
      "58892288/58889256 [==============================] - 0s 0us/step\n",
      "58900480/58889256 [==============================] - 0s 0us/step\n"
     ]
    }
   ],
   "source": [
    "# Utilizing the VGG16 model prepackaged with Keras for a pretrained network\n",
    "\n",
    "conv_base = keras.applications.vgg16.VGG16(\n",
    "    weights=\"imagenet\",\n",
    "    include_top=False)\n",
    "conv_base.trainable = False"
   ]
  },
  {
   "cell_type": "code",
   "execution_count": 23,
   "metadata": {
    "executionInfo": {
     "elapsed": 160,
     "status": "ok",
     "timestamp": 1648404373732,
     "user": {
      "displayName": "Eyob Tadele",
      "photoUrl": "https://lh3.googleusercontent.com/a-/AOh14GiqVVKYtMKmfMloUCeWY2ukUo0Cv_7f7MSl9TN-VQ=s64",
      "userId": "02961127894458619855"
     },
     "user_tz": 240
    },
    "id": "d9AS7z3OiSTM"
   },
   "outputs": [],
   "source": [
    "inputs = keras.Input(shape=(180, 180, 3))\n",
    "x = data_augmentation(inputs)\n",
    "x = keras.applications.vgg16.preprocess_input(x)\n",
    "x = conv_base(x)\n",
    "x = layers.Flatten()(x)\n",
    "x = layers.Dense(256)(x)\n",
    "x = layers.Dropout(0.5)(x)\n",
    "outputs = layers.Dense(1, activation=\"sigmoid\")(x)\n",
    "model = keras.Model(inputs, outputs)\n",
    "model.compile(loss=\"binary_crossentropy\",\n",
    "              optimizer=\"adam\",\n",
    "              metrics=[\"accuracy\"])"
   ]
  },
  {
   "cell_type": "code",
   "execution_count": 24,
   "metadata": {
    "executionInfo": {
     "elapsed": 133,
     "status": "ok",
     "timestamp": 1648404443427,
     "user": {
      "displayName": "Eyob Tadele",
      "photoUrl": "https://lh3.googleusercontent.com/a-/AOh14GiqVVKYtMKmfMloUCeWY2ukUo0Cv_7f7MSl9TN-VQ=s64",
      "userId": "02961127894458619855"
     },
     "user_tz": 240
    },
    "id": "ltMx2wo0jAsm"
   },
   "outputs": [],
   "source": [
    "callbacks11 = [\n",
    "    keras.callbacks.ModelCheckpoint(\n",
    "        filepath=\"feature_extraction_with_data_augmentation_1.keras\",\n",
    "        save_best_only=True,\n",
    "        monitor=\"val_loss\")\n",
    "]\n",
    "\n",
    "callbacks22 = [\n",
    "    keras.callbacks.ModelCheckpoint(\n",
    "        filepath=\"feature_extraction_with_data_augmentation_2.keras\",\n",
    "        save_best_only=True,\n",
    "        monitor=\"val_loss\")\n",
    "]\n",
    "\n",
    "\n",
    "callbacks33 = [\n",
    "    keras.callbacks.ModelCheckpoint(\n",
    "        filepath=\"feature_extraction_with_data_augmentation_3.keras\",\n",
    "        save_best_only=True,\n",
    "        monitor=\"val_loss\")\n",
    "]"
   ]
  },
  {
   "cell_type": "code",
   "execution_count": 25,
   "metadata": {
    "colab": {
     "base_uri": "https://localhost:8080/"
    },
    "executionInfo": {
     "elapsed": 1885000,
     "status": "ok",
     "timestamp": 1648406436605,
     "user": {
      "displayName": "Eyob Tadele",
      "photoUrl": "https://lh3.googleusercontent.com/a-/AOh14GiqVVKYtMKmfMloUCeWY2ukUo0Cv_7f7MSl9TN-VQ=s64",
      "userId": "02961127894458619855"
     },
     "user_tz": 240
    },
    "id": "6BTOIt0Uj8hJ",
    "outputId": "3d9ef432-e4e8-48cf-efc7-f512297c9370"
   },
   "outputs": [
    {
     "name": "stdout",
     "output_type": "stream",
     "text": [
      "Epoch 1/50\n",
      "63/63 [==============================] - 35s 475ms/step - loss: 11.2314 - accuracy: 0.9060 - val_loss: 8.1595 - val_accuracy: 0.9500\n",
      "Epoch 2/50\n",
      "63/63 [==============================] - 27s 424ms/step - loss: 5.4355 - accuracy: 0.9480 - val_loss: 6.7817 - val_accuracy: 0.9700\n",
      "Epoch 3/50\n",
      "63/63 [==============================] - 27s 424ms/step - loss: 4.9497 - accuracy: 0.9660 - val_loss: 4.6331 - val_accuracy: 0.9640\n",
      "Epoch 4/50\n",
      "63/63 [==============================] - 27s 423ms/step - loss: 4.0888 - accuracy: 0.9625 - val_loss: 3.2680 - val_accuracy: 0.9690\n",
      "Epoch 5/50\n",
      "63/63 [==============================] - 27s 420ms/step - loss: 2.6991 - accuracy: 0.9655 - val_loss: 4.2602 - val_accuracy: 0.9710\n",
      "Epoch 6/50\n",
      "63/63 [==============================] - 27s 419ms/step - loss: 2.3222 - accuracy: 0.9770 - val_loss: 4.5067 - val_accuracy: 0.9720\n",
      "Epoch 7/50\n",
      "63/63 [==============================] - 27s 419ms/step - loss: 2.2204 - accuracy: 0.9805 - val_loss: 5.8047 - val_accuracy: 0.9610\n",
      "Epoch 8/50\n",
      "63/63 [==============================] - 27s 419ms/step - loss: 1.5139 - accuracy: 0.9820 - val_loss: 3.3596 - val_accuracy: 0.9740\n",
      "Epoch 9/50\n",
      "63/63 [==============================] - 27s 420ms/step - loss: 2.2123 - accuracy: 0.9780 - val_loss: 3.6418 - val_accuracy: 0.9740\n",
      "Epoch 10/50\n",
      "63/63 [==============================] - 27s 424ms/step - loss: 2.1089 - accuracy: 0.9755 - val_loss: 2.9769 - val_accuracy: 0.9760\n",
      "Epoch 11/50\n",
      "63/63 [==============================] - 27s 420ms/step - loss: 1.1388 - accuracy: 0.9840 - val_loss: 3.9088 - val_accuracy: 0.9750\n",
      "Epoch 12/50\n",
      "63/63 [==============================] - 27s 421ms/step - loss: 1.4148 - accuracy: 0.9805 - val_loss: 3.8317 - val_accuracy: 0.9740\n",
      "Epoch 13/50\n",
      "63/63 [==============================] - 27s 420ms/step - loss: 1.4476 - accuracy: 0.9795 - val_loss: 4.2061 - val_accuracy: 0.9760\n",
      "Epoch 14/50\n",
      "63/63 [==============================] - 27s 419ms/step - loss: 1.3350 - accuracy: 0.9815 - val_loss: 3.4440 - val_accuracy: 0.9770\n",
      "Epoch 15/50\n",
      "63/63 [==============================] - 27s 420ms/step - loss: 1.2246 - accuracy: 0.9805 - val_loss: 3.8927 - val_accuracy: 0.9740\n",
      "Epoch 16/50\n",
      "63/63 [==============================] - 27s 421ms/step - loss: 1.2602 - accuracy: 0.9865 - val_loss: 3.5777 - val_accuracy: 0.9740\n",
      "Epoch 17/50\n",
      "63/63 [==============================] - 27s 424ms/step - loss: 0.9725 - accuracy: 0.9875 - val_loss: 2.9267 - val_accuracy: 0.9760\n",
      "Epoch 18/50\n",
      "63/63 [==============================] - 27s 420ms/step - loss: 1.2389 - accuracy: 0.9820 - val_loss: 3.2018 - val_accuracy: 0.9720\n",
      "Epoch 19/50\n",
      "63/63 [==============================] - 27s 425ms/step - loss: 1.0961 - accuracy: 0.9855 - val_loss: 2.1460 - val_accuracy: 0.9760\n",
      "Epoch 20/50\n",
      "63/63 [==============================] - 27s 420ms/step - loss: 0.8074 - accuracy: 0.9850 - val_loss: 2.6058 - val_accuracy: 0.9790\n",
      "Epoch 21/50\n",
      "63/63 [==============================] - 27s 424ms/step - loss: 1.0749 - accuracy: 0.9870 - val_loss: 1.4783 - val_accuracy: 0.9830\n",
      "Epoch 22/50\n",
      "63/63 [==============================] - 27s 420ms/step - loss: 0.6367 - accuracy: 0.9880 - val_loss: 2.2741 - val_accuracy: 0.9780\n",
      "Epoch 23/50\n",
      "63/63 [==============================] - 27s 420ms/step - loss: 0.5753 - accuracy: 0.9880 - val_loss: 2.8105 - val_accuracy: 0.9790\n",
      "Epoch 24/50\n",
      "63/63 [==============================] - 27s 419ms/step - loss: 0.5914 - accuracy: 0.9895 - val_loss: 2.8123 - val_accuracy: 0.9790\n",
      "Epoch 25/50\n",
      "63/63 [==============================] - 27s 420ms/step - loss: 0.6409 - accuracy: 0.9890 - val_loss: 2.4376 - val_accuracy: 0.9780\n",
      "Epoch 26/50\n",
      "63/63 [==============================] - 27s 420ms/step - loss: 0.5317 - accuracy: 0.9880 - val_loss: 1.8954 - val_accuracy: 0.9760\n",
      "Epoch 27/50\n",
      "63/63 [==============================] - 27s 420ms/step - loss: 0.4964 - accuracy: 0.9895 - val_loss: 1.7310 - val_accuracy: 0.9770\n",
      "Epoch 28/50\n",
      "63/63 [==============================] - 27s 420ms/step - loss: 0.3289 - accuracy: 0.9925 - val_loss: 2.1126 - val_accuracy: 0.9800\n",
      "Epoch 29/50\n",
      "63/63 [==============================] - 27s 420ms/step - loss: 0.5497 - accuracy: 0.9890 - val_loss: 1.8115 - val_accuracy: 0.9820\n",
      "Epoch 30/50\n",
      "63/63 [==============================] - 27s 420ms/step - loss: 0.8339 - accuracy: 0.9905 - val_loss: 2.1560 - val_accuracy: 0.9810\n",
      "Epoch 31/50\n",
      "63/63 [==============================] - 27s 419ms/step - loss: 0.3078 - accuracy: 0.9925 - val_loss: 1.5927 - val_accuracy: 0.9800\n",
      "Epoch 32/50\n",
      "63/63 [==============================] - 27s 420ms/step - loss: 0.5118 - accuracy: 0.9905 - val_loss: 1.6026 - val_accuracy: 0.9780\n",
      "Epoch 33/50\n",
      "63/63 [==============================] - 27s 420ms/step - loss: 0.2117 - accuracy: 0.9925 - val_loss: 1.8208 - val_accuracy: 0.9780\n",
      "Epoch 34/50\n",
      "63/63 [==============================] - 27s 420ms/step - loss: 0.3557 - accuracy: 0.9895 - val_loss: 2.3153 - val_accuracy: 0.9790\n",
      "Epoch 35/50\n",
      "63/63 [==============================] - 27s 420ms/step - loss: 0.1200 - accuracy: 0.9955 - val_loss: 2.0341 - val_accuracy: 0.9830\n",
      "Epoch 36/50\n",
      "63/63 [==============================] - 27s 420ms/step - loss: 0.3922 - accuracy: 0.9900 - val_loss: 2.0030 - val_accuracy: 0.9830\n",
      "Epoch 37/50\n",
      "63/63 [==============================] - 27s 419ms/step - loss: 0.4379 - accuracy: 0.9905 - val_loss: 2.1529 - val_accuracy: 0.9790\n",
      "Epoch 38/50\n",
      "63/63 [==============================] - 27s 420ms/step - loss: 0.4197 - accuracy: 0.9890 - val_loss: 2.3354 - val_accuracy: 0.9750\n",
      "Epoch 39/50\n",
      "63/63 [==============================] - 27s 421ms/step - loss: 0.1392 - accuracy: 0.9925 - val_loss: 2.2123 - val_accuracy: 0.9760\n",
      "Epoch 40/50\n",
      "63/63 [==============================] - 27s 420ms/step - loss: 0.5918 - accuracy: 0.9865 - val_loss: 2.1535 - val_accuracy: 0.9780\n",
      "Epoch 41/50\n",
      "63/63 [==============================] - 27s 419ms/step - loss: 0.3810 - accuracy: 0.9920 - val_loss: 2.1792 - val_accuracy: 0.9750\n",
      "Epoch 42/50\n",
      "63/63 [==============================] - 27s 421ms/step - loss: 0.2027 - accuracy: 0.9950 - val_loss: 1.6924 - val_accuracy: 0.9760\n",
      "Epoch 43/50\n",
      "63/63 [==============================] - 27s 419ms/step - loss: 0.2751 - accuracy: 0.9910 - val_loss: 1.7310 - val_accuracy: 0.9770\n",
      "Epoch 44/50\n",
      "63/63 [==============================] - 27s 419ms/step - loss: 0.2673 - accuracy: 0.9905 - val_loss: 1.7726 - val_accuracy: 0.9750\n",
      "Epoch 45/50\n",
      "63/63 [==============================] - 27s 419ms/step - loss: 0.4113 - accuracy: 0.9885 - val_loss: 2.0119 - val_accuracy: 0.9800\n",
      "Epoch 46/50\n",
      "63/63 [==============================] - 27s 420ms/step - loss: 0.5657 - accuracy: 0.9890 - val_loss: 1.8357 - val_accuracy: 0.9780\n",
      "Epoch 47/50\n",
      "63/63 [==============================] - 27s 421ms/step - loss: 0.4990 - accuracy: 0.9890 - val_loss: 1.9723 - val_accuracy: 0.9780\n",
      "Epoch 48/50\n",
      "63/63 [==============================] - 27s 420ms/step - loss: 0.4297 - accuracy: 0.9905 - val_loss: 1.8728 - val_accuracy: 0.9760\n",
      "Epoch 49/50\n",
      "63/63 [==============================] - 27s 420ms/step - loss: 0.3055 - accuracy: 0.9885 - val_loss: 1.7614 - val_accuracy: 0.9760\n",
      "Epoch 50/50\n",
      "63/63 [==============================] - 27s 419ms/step - loss: 0.2398 - accuracy: 0.9900 - val_loss: 1.5591 - val_accuracy: 0.9810\n"
     ]
    }
   ],
   "source": [
    "history11 = model.fit(\n",
    "    train_dataset1,\n",
    "    epochs=50,\n",
    "    validation_data=validation_dataset1,\n",
    "    callbacks=callbacks11)"
   ]
  },
  {
   "cell_type": "code",
   "execution_count": 26,
   "metadata": {
    "colab": {
     "base_uri": "https://localhost:8080/",
     "height": 545
    },
    "executionInfo": {
     "elapsed": 452,
     "status": "ok",
     "timestamp": 1648406533330,
     "user": {
      "displayName": "Eyob Tadele",
      "photoUrl": "https://lh3.googleusercontent.com/a-/AOh14GiqVVKYtMKmfMloUCeWY2ukUo0Cv_7f7MSl9TN-VQ=s64",
      "userId": "02961127894458619855"
     },
     "user_tz": 240
    },
    "id": "ryrPe-XDrlJI",
    "outputId": "a1961834-0319-431d-f57d-ac126494bfe4"
   },
   "outputs": [
    {
     "data": {
      "image/png": "[encoded data removed]",
      "text/plain": [
       "<Figure size 432x288 with 1 Axes>"
      ]
     },
     "metadata": {
      "needs_background": "light"
     },
     "output_type": "display_data"
    },
    {
     "data": {
      "image/png": "[encoded data removed]",
      "text/plain": [
       "<Figure size 432x288 with 1 Axes>"
      ]
     },
     "metadata": {
      "needs_background": "light"
     },
     "output_type": "display_data"
    }
   ],
   "source": [
    "# plotting accuracy and loss on training and validation \n",
    "\n",
    "import matplotlib.pyplot as plt\n",
    "accuracy = history11.history[\"accuracy\"]\n",
    "val_accuracy = history11.history[\"val_accuracy\"]\n",
    "loss = history11.history[\"loss\"]\n",
    "val_loss = history11.history[\"val_loss\"]\n",
    "epochs = range(1, len(accuracy) + 1)\n",
    "plt.plot(epochs, accuracy, \"bo\", label=\"Training accuracy\")\n",
    "plt.plot(epochs, val_accuracy, \"b\", label=\"Validation accuracy\")\n",
    "plt.title(\"Training and validation accuracy\")\n",
    "plt.legend()\n",
    "plt.figure()\n",
    "plt.plot(epochs, loss, \"bo\", label=\"Training loss\")\n",
    "plt.plot(epochs, val_loss, \"b\", label=\"Validation loss\")\n",
    "plt.title(\"Training and validation loss\")\n",
    "plt.legend()\n",
    "plt.show()"
   ]
  },
  {
   "cell_type": "code",
   "execution_count": 28,
   "metadata": {
    "colab": {
     "base_uri": "https://localhost:8080/"
    },
    "executionInfo": {
     "elapsed": 11246,
     "status": "ok",
     "timestamp": 1648406691983,
     "user": {
      "displayName": "Eyob Tadele",
      "photoUrl": "https://lh3.googleusercontent.com/a-/AOh14GiqVVKYtMKmfMloUCeWY2ukUo0Cv_7f7MSl9TN-VQ=s64",
      "userId": "02961127894458619855"
     },
     "user_tz": 240
    },
    "id": "SZzdQ35DsAG-",
    "outputId": "6b8512d5-a688-4def-c33c-0a897ed0c42b"
   },
   "outputs": [
    {
     "name": "stdout",
     "output_type": "stream",
     "text": [
      "32/32 [==============================] - 9s 268ms/step - loss: 2.2952 - accuracy: 0.9750\n",
      "Test accuracy: 0.975\n"
     ]
    }
   ],
   "source": [
    "test_model = keras.models.load_model(\n",
    "    \"feature_extraction_with_data_augmentation_1.keras\")\n",
    "test_loss, test_acc = test_model.evaluate(test_dataset1)\n",
    "print(f\"Test accuracy: {test_acc:.3f}\")"
   ]
  },
  {
   "cell_type": "code",
   "execution_count": 29,
   "metadata": {
    "colab": {
     "base_uri": "https://localhost:8080/"
    },
    "executionInfo": {
     "elapsed": 3530608,
     "status": "ok",
     "timestamp": 1648410340279,
     "user": {
      "displayName": "Eyob Tadele",
      "photoUrl": "https://lh3.googleusercontent.com/a-/AOh14GiqVVKYtMKmfMloUCeWY2ukUo0Cv_7f7MSl9TN-VQ=s64",
      "userId": "02961127894458619855"
     },
     "user_tz": 240
    },
    "id": "ZSXl98Rxsjgt",
    "outputId": "09e9ac93-b55e-40b2-b9e6-54d7597bdc0c"
   },
   "outputs": [
    {
     "name": "stdout",
     "output_type": "stream",
     "text": [
      "Epoch 1/50\n",
      "125/125 [==============================] - 44s 353ms/step - loss: 1.8922 - accuracy: 0.9675 - val_loss: 1.8032 - val_accuracy: 0.9770\n",
      "Epoch 2/50\n",
      "125/125 [==============================] - 45s 354ms/step - loss: 0.9455 - accuracy: 0.9725 - val_loss: 0.9609 - val_accuracy: 0.9810\n",
      "Epoch 3/50\n",
      "125/125 [==============================] - 45s 354ms/step - loss: 0.7349 - accuracy: 0.9772 - val_loss: 0.7904 - val_accuracy: 0.9800\n",
      "Epoch 4/50\n",
      "125/125 [==============================] - 44s 352ms/step - loss: 0.5434 - accuracy: 0.9775 - val_loss: 0.9716 - val_accuracy: 0.9800\n",
      "Epoch 5/50\n",
      "125/125 [==============================] - 44s 351ms/step - loss: 0.5102 - accuracy: 0.9805 - val_loss: 1.4368 - val_accuracy: 0.9710\n",
      "Epoch 6/50\n",
      "125/125 [==============================] - 44s 351ms/step - loss: 0.6626 - accuracy: 0.9818 - val_loss: 1.1701 - val_accuracy: 0.9720\n",
      "Epoch 7/50\n",
      "125/125 [==============================] - 44s 351ms/step - loss: 0.5117 - accuracy: 0.9797 - val_loss: 0.9412 - val_accuracy: 0.9830\n",
      "Epoch 8/50\n",
      "125/125 [==============================] - 44s 352ms/step - loss: 0.5248 - accuracy: 0.9790 - val_loss: 1.3252 - val_accuracy: 0.9790\n",
      "Epoch 9/50\n",
      "125/125 [==============================] - 44s 352ms/step - loss: 0.5810 - accuracy: 0.9805 - val_loss: 0.9589 - val_accuracy: 0.9820\n",
      "Epoch 10/50\n",
      "125/125 [==============================] - 44s 352ms/step - loss: 0.5713 - accuracy: 0.9800 - val_loss: 1.6522 - val_accuracy: 0.9720\n",
      "Epoch 11/50\n",
      "125/125 [==============================] - 44s 351ms/step - loss: 0.5325 - accuracy: 0.9820 - val_loss: 1.2880 - val_accuracy: 0.9830\n",
      "Epoch 12/50\n",
      "125/125 [==============================] - 44s 351ms/step - loss: 0.6350 - accuracy: 0.9822 - val_loss: 1.5668 - val_accuracy: 0.9740\n",
      "Epoch 13/50\n",
      "125/125 [==============================] - 44s 352ms/step - loss: 0.5805 - accuracy: 0.9810 - val_loss: 1.3901 - val_accuracy: 0.9740\n",
      "Epoch 14/50\n",
      "125/125 [==============================] - 44s 351ms/step - loss: 0.4931 - accuracy: 0.9833 - val_loss: 1.2846 - val_accuracy: 0.9820\n",
      "Epoch 15/50\n",
      "125/125 [==============================] - 44s 351ms/step - loss: 0.5161 - accuracy: 0.9822 - val_loss: 1.6761 - val_accuracy: 0.9770\n",
      "Epoch 16/50\n",
      "125/125 [==============================] - 44s 351ms/step - loss: 0.5599 - accuracy: 0.9847 - val_loss: 1.3157 - val_accuracy: 0.9790\n",
      "Epoch 17/50\n",
      "125/125 [==============================] - 44s 352ms/step - loss: 0.6079 - accuracy: 0.9827 - val_loss: 1.3174 - val_accuracy: 0.9830\n",
      "Epoch 18/50\n",
      "125/125 [==============================] - 44s 352ms/step - loss: 0.6669 - accuracy: 0.9808 - val_loss: 1.5475 - val_accuracy: 0.9820\n",
      "Epoch 19/50\n",
      "125/125 [==============================] - 44s 352ms/step - loss: 0.5390 - accuracy: 0.9860 - val_loss: 1.4711 - val_accuracy: 0.9810\n",
      "Epoch 20/50\n",
      "125/125 [==============================] - 44s 352ms/step - loss: 0.5086 - accuracy: 0.9860 - val_loss: 2.5474 - val_accuracy: 0.9700\n",
      "Epoch 21/50\n",
      "125/125 [==============================] - 44s 352ms/step - loss: 0.8754 - accuracy: 0.9795 - val_loss: 2.1611 - val_accuracy: 0.9690\n",
      "Epoch 22/50\n",
      "125/125 [==============================] - 44s 353ms/step - loss: 0.7969 - accuracy: 0.9780 - val_loss: 1.7848 - val_accuracy: 0.9810\n",
      "Epoch 23/50\n",
      "125/125 [==============================] - 44s 352ms/step - loss: 0.9406 - accuracy: 0.9803 - val_loss: 2.0484 - val_accuracy: 0.9790\n",
      "Epoch 24/50\n",
      "125/125 [==============================] - 44s 351ms/step - loss: 0.6380 - accuracy: 0.9852 - val_loss: 1.9812 - val_accuracy: 0.9810\n",
      "Epoch 25/50\n",
      "125/125 [==============================] - 44s 352ms/step - loss: 0.7662 - accuracy: 0.9825 - val_loss: 2.1010 - val_accuracy: 0.9790\n",
      "Epoch 26/50\n",
      "125/125 [==============================] - 44s 353ms/step - loss: 0.9798 - accuracy: 0.9803 - val_loss: 1.8924 - val_accuracy: 0.9820\n",
      "Epoch 27/50\n",
      "125/125 [==============================] - 44s 352ms/step - loss: 0.4750 - accuracy: 0.9860 - val_loss: 2.4082 - val_accuracy: 0.9800\n",
      "Epoch 28/50\n",
      "125/125 [==============================] - 44s 351ms/step - loss: 0.4796 - accuracy: 0.9885 - val_loss: 2.4563 - val_accuracy: 0.9790\n",
      "Epoch 29/50\n",
      "125/125 [==============================] - 44s 351ms/step - loss: 0.7028 - accuracy: 0.9852 - val_loss: 2.1876 - val_accuracy: 0.9800\n",
      "Epoch 30/50\n",
      "125/125 [==============================] - 44s 351ms/step - loss: 0.5939 - accuracy: 0.9850 - val_loss: 2.3928 - val_accuracy: 0.9790\n",
      "Epoch 31/50\n",
      "125/125 [==============================] - 44s 351ms/step - loss: 0.7950 - accuracy: 0.9850 - val_loss: 2.0160 - val_accuracy: 0.9850\n",
      "Epoch 32/50\n",
      "125/125 [==============================] - 44s 352ms/step - loss: 1.1817 - accuracy: 0.9825 - val_loss: 2.7064 - val_accuracy: 0.9800\n",
      "Epoch 33/50\n",
      "125/125 [==============================] - 44s 351ms/step - loss: 0.4482 - accuracy: 0.9900 - val_loss: 2.5025 - val_accuracy: 0.9790\n",
      "Epoch 34/50\n",
      "125/125 [==============================] - 44s 352ms/step - loss: 0.6173 - accuracy: 0.9872 - val_loss: 1.9478 - val_accuracy: 0.9810\n",
      "Epoch 35/50\n",
      "125/125 [==============================] - 44s 351ms/step - loss: 0.6460 - accuracy: 0.9847 - val_loss: 2.4977 - val_accuracy: 0.9780\n",
      "Epoch 36/50\n",
      "125/125 [==============================] - 44s 352ms/step - loss: 0.9271 - accuracy: 0.9830 - val_loss: 2.6642 - val_accuracy: 0.9800\n",
      "Epoch 37/50\n",
      "125/125 [==============================] - 44s 352ms/step - loss: 0.6197 - accuracy: 0.9887 - val_loss: 3.2079 - val_accuracy: 0.9810\n",
      "Epoch 38/50\n",
      "125/125 [==============================] - 44s 351ms/step - loss: 0.7378 - accuracy: 0.9855 - val_loss: 3.2353 - val_accuracy: 0.9760\n",
      "Epoch 39/50\n",
      "125/125 [==============================] - 44s 351ms/step - loss: 0.6563 - accuracy: 0.9875 - val_loss: 2.7735 - val_accuracy: 0.9810\n",
      "Epoch 40/50\n",
      "125/125 [==============================] - 44s 352ms/step - loss: 0.7736 - accuracy: 0.9862 - val_loss: 2.9257 - val_accuracy: 0.9810\n",
      "Epoch 41/50\n",
      "125/125 [==============================] - 44s 351ms/step - loss: 0.9871 - accuracy: 0.9845 - val_loss: 3.4069 - val_accuracy: 0.9750\n",
      "Epoch 42/50\n",
      "125/125 [==============================] - 44s 352ms/step - loss: 0.8189 - accuracy: 0.9852 - val_loss: 4.0068 - val_accuracy: 0.9750\n",
      "Epoch 43/50\n",
      "125/125 [==============================] - 44s 352ms/step - loss: 0.5971 - accuracy: 0.9890 - val_loss: 2.7547 - val_accuracy: 0.9810\n",
      "Epoch 44/50\n",
      "125/125 [==============================] - 44s 351ms/step - loss: 0.8744 - accuracy: 0.9868 - val_loss: 2.6739 - val_accuracy: 0.9820\n",
      "Epoch 45/50\n",
      "125/125 [==============================] - 44s 352ms/step - loss: 0.5743 - accuracy: 0.9885 - val_loss: 2.7717 - val_accuracy: 0.9820\n",
      "Epoch 46/50\n",
      "125/125 [==============================] - 44s 352ms/step - loss: 0.7999 - accuracy: 0.9845 - val_loss: 3.3145 - val_accuracy: 0.9750\n",
      "Epoch 47/50\n",
      "125/125 [==============================] - 44s 351ms/step - loss: 0.7717 - accuracy: 0.9893 - val_loss: 2.0607 - val_accuracy: 0.9850\n",
      "Epoch 48/50\n",
      "125/125 [==============================] - 44s 352ms/step - loss: 0.9799 - accuracy: 0.9825 - val_loss: 2.3865 - val_accuracy: 0.9780\n",
      "Epoch 49/50\n",
      "125/125 [==============================] - 44s 352ms/step - loss: 0.5994 - accuracy: 0.9900 - val_loss: 3.3435 - val_accuracy: 0.9780\n",
      "Epoch 50/50\n",
      "125/125 [==============================] - 44s 352ms/step - loss: 0.6061 - accuracy: 0.9898 - val_loss: 2.6363 - val_accuracy: 0.9800\n"
     ]
    }
   ],
   "source": [
    "history22 = model.fit(\n",
    "    train_dataset2,\n",
    "    epochs=50,\n",
    "    validation_data=validation_dataset2,\n",
    "    callbacks=callbacks22)"
   ]
  },
  {
   "cell_type": "code",
   "execution_count": 30,
   "metadata": {
    "colab": {
     "base_uri": "https://localhost:8080/",
     "height": 545
    },
    "executionInfo": {
     "elapsed": 629,
     "status": "ok",
     "timestamp": 1648410481892,
     "user": {
      "displayName": "Eyob Tadele",
      "photoUrl": "https://lh3.googleusercontent.com/a-/AOh14GiqVVKYtMKmfMloUCeWY2ukUo0Cv_7f7MSl9TN-VQ=s64",
      "userId": "02961127894458619855"
     },
     "user_tz": 240
    },
    "id": "A2PHGXHj6kIz",
    "outputId": "c7619d79-a154-4eed-c011-3a08b0312fef"
   },
   "outputs": [
    {
     "data": {
      "image/png": "[encoded data removed]",
      "text/plain": [
       "<Figure size 432x288 with 1 Axes>"
      ]
     },
     "metadata": {
      "needs_background": "light"
     },
     "output_type": "display_data"
    },
    {
     "data": {
      "image/png": "[encoded data removed]",
      "text/plain": [
       "<Figure size 432x288 with 1 Axes>"
      ]
     },
     "metadata": {
      "needs_background": "light"
     },
     "output_type": "display_data"
    }
   ],
   "source": [
    "# plotting accuracy and loss on training and validation \n",
    "\n",
    "import matplotlib.pyplot as plt\n",
    "accuracy = history22.history[\"accuracy\"]\n",
    "val_accuracy = history22.history[\"val_accuracy\"]\n",
    "loss = history22.history[\"loss\"]\n",
    "val_loss = history22.history[\"val_loss\"]\n",
    "epochs = range(1, len(accuracy) + 1)\n",
    "plt.plot(epochs, accuracy, \"bo\", label=\"Training accuracy\")\n",
    "plt.plot(epochs, val_accuracy, \"b\", label=\"Validation accuracy\")\n",
    "plt.title(\"Training and validation accuracy\")\n",
    "plt.legend()\n",
    "plt.figure()\n",
    "plt.plot(epochs, loss, \"bo\", label=\"Training loss\")\n",
    "plt.plot(epochs, val_loss, \"b\", label=\"Validation loss\")\n",
    "plt.title(\"Training and validation loss\")\n",
    "plt.legend()\n",
    "plt.show()"
   ]
  },
  {
   "cell_type": "code",
   "execution_count": 32,
   "metadata": {
    "colab": {
     "base_uri": "https://localhost:8080/"
    },
    "executionInfo": {
     "elapsed": 11235,
     "status": "ok",
     "timestamp": 1648410675670,
     "user": {
      "displayName": "Eyob Tadele",
      "photoUrl": "https://lh3.googleusercontent.com/a-/AOh14GiqVVKYtMKmfMloUCeWY2ukUo0Cv_7f7MSl9TN-VQ=s64",
      "userId": "02961127894458619855"
     },
     "user_tz": 240
    },
    "id": "zo2PJewg6kV0",
    "outputId": "9523eb01-8a82-46ad-afa6-550b1bb6836e"
   },
   "outputs": [
    {
     "name": "stdout",
     "output_type": "stream",
     "text": [
      "32/32 [==============================] - 9s 268ms/step - loss: 1.0348 - accuracy: 0.9660\n",
      "Test accuracy: 0.966\n"
     ]
    }
   ],
   "source": [
    "test_model = keras.models.load_model(\n",
    "    \"feature_extraction_with_data_augmentation_2.keras\")\n",
    "test_loss, test_acc = test_model.evaluate(test_dataset2)\n",
    "print(f\"Test accuracy: {test_acc:.3f}\")"
   ]
  },
  {
   "cell_type": "markdown",
   "metadata": {
    "id": "HgPNZ--u8akb"
   },
   "source": [
    "Finetuning the last three convolutional layers by freezing all layers upto the fourth layer, and layers 5 and above should be trainable"
   ]
  },
  {
   "cell_type": "code",
   "execution_count": 33,
   "metadata": {
    "executionInfo": {
     "elapsed": 189,
     "status": "ok",
     "timestamp": 1648411396392,
     "user": {
      "displayName": "Eyob Tadele",
      "photoUrl": "https://lh3.googleusercontent.com/a-/AOh14GiqVVKYtMKmfMloUCeWY2ukUo0Cv_7f7MSl9TN-VQ=s64",
      "userId": "02961127894458619855"
     },
     "user_tz": 240
    },
    "id": "hNJCBkxG9HH8"
   },
   "outputs": [],
   "source": [
    "# Freezing all layers until the fourth from last\n",
    "\n",
    "conv_base.trainable = True\n",
    "for layer in conv_base.layers[:-4]:\n",
    "    layer.trainable = False"
   ]
  },
  {
   "cell_type": "code",
   "execution_count": 35,
   "metadata": {
    "executionInfo": {
     "elapsed": 146,
     "status": "ok",
     "timestamp": 1648411446671,
     "user": {
      "displayName": "Eyob Tadele",
      "photoUrl": "https://lh3.googleusercontent.com/a-/AOh14GiqVVKYtMKmfMloUCeWY2ukUo0Cv_7f7MSl9TN-VQ=s64",
      "userId": "02961127894458619855"
     },
     "user_tz": 240
    },
    "id": "5ubMObYN9USo"
   },
   "outputs": [],
   "source": [
    "model.compile(loss=\"binary_crossentropy\",\n",
    "optimizer=keras.optimizers.RMSprop(learning_rate=1e-5),\n",
    "metrics=[\"accuracy\"])"
   ]
  },
  {
   "cell_type": "code",
   "execution_count": 36,
   "metadata": {
    "executionInfo": {
     "elapsed": 132,
     "status": "ok",
     "timestamp": 1648411458793,
     "user": {
      "displayName": "Eyob Tadele",
      "photoUrl": "https://lh3.googleusercontent.com/a-/AOh14GiqVVKYtMKmfMloUCeWY2ukUo0Cv_7f7MSl9TN-VQ=s64",
      "userId": "02961127894458619855"
     },
     "user_tz": 240
    },
    "id": "ezVmi1Qo9irB"
   },
   "outputs": [],
   "source": [
    "callbacks44 = [\n",
    "    keras.callbacks.ModelCheckpoint(\n",
    "        filepath=\"fine_tuning.keras\",\n",
    "        save_best_only=True,\n",
    "        monitor=\"val_loss\")\n",
    "]"
   ]
  },
  {
   "cell_type": "code",
   "execution_count": 37,
   "metadata": {
    "colab": {
     "base_uri": "https://localhost:8080/"
    },
    "executionInfo": {
     "elapsed": 3936263,
     "status": "ok",
     "timestamp": 1648415401302,
     "user": {
      "displayName": "Eyob Tadele",
      "photoUrl": "https://lh3.googleusercontent.com/a-/AOh14GiqVVKYtMKmfMloUCeWY2ukUo0Cv_7f7MSl9TN-VQ=s64",
      "userId": "02961127894458619855"
     },
     "user_tz": 240
    },
    "id": "mofPCzgX96V-",
    "outputId": "2fa3d3d9-f39a-410e-d70e-6144e8b0d24b"
   },
   "outputs": [
    {
     "name": "stdout",
     "output_type": "stream",
     "text": [
      "Epoch 1/30\n",
      "313/313 [==============================] - 113s 351ms/step - loss: 2.2209 - accuracy: 0.9708 - val_loss: 1.4687 - val_accuracy: 0.9760\n",
      "Epoch 2/30\n",
      "313/313 [==============================] - 110s 350ms/step - loss: 1.1065 - accuracy: 0.9668 - val_loss: 0.8859 - val_accuracy: 0.9780\n",
      "Epoch 3/30\n",
      "313/313 [==============================] - 110s 350ms/step - loss: 0.6803 - accuracy: 0.9692 - val_loss: 0.5938 - val_accuracy: 0.9810\n",
      "Epoch 4/30\n",
      "313/313 [==============================] - 109s 349ms/step - loss: 0.4702 - accuracy: 0.9711 - val_loss: 0.6003 - val_accuracy: 0.9770\n",
      "Epoch 5/30\n",
      "313/313 [==============================] - 110s 350ms/step - loss: 0.3741 - accuracy: 0.9700 - val_loss: 0.4491 - val_accuracy: 0.9760\n",
      "Epoch 6/30\n",
      "313/313 [==============================] - 110s 350ms/step - loss: 0.2768 - accuracy: 0.9696 - val_loss: 0.3577 - val_accuracy: 0.9750\n",
      "Epoch 7/30\n",
      "313/313 [==============================] - 109s 349ms/step - loss: 0.2261 - accuracy: 0.9737 - val_loss: 0.3916 - val_accuracy: 0.9790\n",
      "Epoch 8/30\n",
      "313/313 [==============================] - 110s 349ms/step - loss: 0.1476 - accuracy: 0.9782 - val_loss: 0.3200 - val_accuracy: 0.9760\n",
      "Epoch 9/30\n",
      "313/313 [==============================] - 110s 349ms/step - loss: 0.1632 - accuracy: 0.9774 - val_loss: 0.3462 - val_accuracy: 0.9780\n",
      "Epoch 10/30\n",
      "313/313 [==============================] - 109s 349ms/step - loss: 0.1500 - accuracy: 0.9794 - val_loss: 0.4389 - val_accuracy: 0.9760\n",
      "Epoch 11/30\n",
      "313/313 [==============================] - 110s 349ms/step - loss: 0.1153 - accuracy: 0.9817 - val_loss: 0.3105 - val_accuracy: 0.9780\n",
      "Epoch 12/30\n",
      "313/313 [==============================] - 110s 349ms/step - loss: 0.0905 - accuracy: 0.9843 - val_loss: 0.3437 - val_accuracy: 0.9750\n",
      "Epoch 13/30\n",
      "313/313 [==============================] - 109s 349ms/step - loss: 0.0853 - accuracy: 0.9845 - val_loss: 0.3429 - val_accuracy: 0.9730\n",
      "Epoch 14/30\n",
      "313/313 [==============================] - 110s 349ms/step - loss: 0.0837 - accuracy: 0.9851 - val_loss: 0.3265 - val_accuracy: 0.9780\n",
      "Epoch 15/30\n",
      "313/313 [==============================] - 110s 350ms/step - loss: 0.0716 - accuracy: 0.9875 - val_loss: 0.2195 - val_accuracy: 0.9720\n",
      "Epoch 16/30\n",
      "313/313 [==============================] - 110s 349ms/step - loss: 0.0557 - accuracy: 0.9889 - val_loss: 0.3024 - val_accuracy: 0.9770\n",
      "Epoch 17/30\n",
      "313/313 [==============================] - 109s 349ms/step - loss: 0.0669 - accuracy: 0.9879 - val_loss: 0.3168 - val_accuracy: 0.9760\n",
      "Epoch 18/30\n",
      "313/313 [==============================] - 109s 349ms/step - loss: 0.0560 - accuracy: 0.9897 - val_loss: 0.3254 - val_accuracy: 0.9760\n",
      "Epoch 19/30\n",
      "313/313 [==============================] - 109s 349ms/step - loss: 0.0499 - accuracy: 0.9914 - val_loss: 0.3101 - val_accuracy: 0.9810\n",
      "Epoch 20/30\n",
      "313/313 [==============================] - 110s 349ms/step - loss: 0.0447 - accuracy: 0.9912 - val_loss: 0.3152 - val_accuracy: 0.9760\n",
      "Epoch 21/30\n",
      "313/313 [==============================] - 109s 349ms/step - loss: 0.0408 - accuracy: 0.9916 - val_loss: 0.2214 - val_accuracy: 0.9800\n",
      "Epoch 22/30\n",
      "313/313 [==============================] - 110s 349ms/step - loss: 0.0489 - accuracy: 0.9929 - val_loss: 0.3010 - val_accuracy: 0.9780\n",
      "Epoch 23/30\n",
      "313/313 [==============================] - 109s 349ms/step - loss: 0.0339 - accuracy: 0.9932 - val_loss: 0.3003 - val_accuracy: 0.9780\n",
      "Epoch 24/30\n",
      "313/313 [==============================] - 109s 349ms/step - loss: 0.0505 - accuracy: 0.9915 - val_loss: 0.2750 - val_accuracy: 0.9810\n",
      "Epoch 25/30\n",
      "313/313 [==============================] - 109s 349ms/step - loss: 0.0513 - accuracy: 0.9922 - val_loss: 0.2569 - val_accuracy: 0.9760\n",
      "Epoch 26/30\n",
      "313/313 [==============================] - 110s 349ms/step - loss: 0.0276 - accuracy: 0.9944 - val_loss: 0.2923 - val_accuracy: 0.9740\n",
      "Epoch 27/30\n",
      "313/313 [==============================] - 109s 349ms/step - loss: 0.0320 - accuracy: 0.9923 - val_loss: 0.3011 - val_accuracy: 0.9790\n",
      "Epoch 28/30\n",
      "313/313 [==============================] - 109s 349ms/step - loss: 0.0287 - accuracy: 0.9946 - val_loss: 0.3707 - val_accuracy: 0.9770\n",
      "Epoch 29/30\n",
      "313/313 [==============================] - 109s 349ms/step - loss: 0.0456 - accuracy: 0.9930 - val_loss: 0.2682 - val_accuracy: 0.9760\n",
      "Epoch 30/30\n",
      "313/313 [==============================] - 110s 349ms/step - loss: 0.0419 - accuracy: 0.9934 - val_loss: 0.2849 - val_accuracy: 0.9800\n"
     ]
    }
   ],
   "source": [
    "history44 = model.fit(\n",
    "    train_dataset3,\n",
    "    epochs=30,\n",
    "    validation_data=validation_dataset3,\n",
    "    callbacks=callbacks44)"
   ]
  },
  {
   "cell_type": "code",
   "execution_count": 38,
   "metadata": {
    "colab": {
     "base_uri": "https://localhost:8080/",
     "height": 545
    },
    "executionInfo": {
     "elapsed": 507,
     "status": "ok",
     "timestamp": 1648415500514,
     "user": {
      "displayName": "Eyob Tadele",
      "photoUrl": "https://lh3.googleusercontent.com/a-/AOh14GiqVVKYtMKmfMloUCeWY2ukUo0Cv_7f7MSl9TN-VQ=s64",
      "userId": "02961127894458619855"
     },
     "user_tz": 240
    },
    "id": "FIbEkU9XNxgU",
    "outputId": "e27bcd1d-1d85-42a4-e091-cabebb2addae"
   },
   "outputs": [
    {
     "data": {
      "image/png": "[encoded data removed]",
      "text/plain": [
       "<Figure size 432x288 with 1 Axes>"
      ]
     },
     "metadata": {
      "needs_background": "light"
     },
     "output_type": "display_data"
    },
    {
     "data": {
      "image/png": "[encoded data removed]",
      "text/plain": [
       "<Figure size 432x288 with 1 Axes>"
      ]
     },
     "metadata": {
      "needs_background": "light"
     },
     "output_type": "display_data"
    }
   ],
   "source": [
    "# plotting accuracy and loss on training and validation \n",
    "\n",
    "import matplotlib.pyplot as plt\n",
    "accuracy = history44.history[\"accuracy\"]\n",
    "val_accuracy = history44.history[\"val_accuracy\"]\n",
    "loss = history44.history[\"loss\"]\n",
    "val_loss = history44.history[\"val_loss\"]\n",
    "epochs = range(1, len(accuracy) + 1)\n",
    "plt.plot(epochs, accuracy, \"bo\", label=\"Training accuracy\")\n",
    "plt.plot(epochs, val_accuracy, \"b\", label=\"Validation accuracy\")\n",
    "plt.title(\"Training and validation accuracy\")\n",
    "plt.legend()\n",
    "plt.figure()\n",
    "plt.plot(epochs, loss, \"bo\", label=\"Training loss\")\n",
    "plt.plot(epochs, val_loss, \"b\", label=\"Validation loss\")\n",
    "plt.title(\"Training and validation loss\")\n",
    "plt.legend()\n",
    "plt.show()"
   ]
  },
  {
   "cell_type": "code",
   "execution_count": 40,
   "metadata": {
    "colab": {
     "base_uri": "https://localhost:8080/"
    },
    "executionInfo": {
     "elapsed": 11181,
     "status": "ok",
     "timestamp": 1648415633341,
     "user": {
      "displayName": "Eyob Tadele",
      "photoUrl": "https://lh3.googleusercontent.com/a-/AOh14GiqVVKYtMKmfMloUCeWY2ukUo0Cv_7f7MSl9TN-VQ=s64",
      "userId": "02961127894458619855"
     },
     "user_tz": 240
    },
    "id": "Pn_Nq_QxNx1I",
    "outputId": "037f5df1-cd15-408c-f49c-164a23fd8d9f"
   },
   "outputs": [
    {
     "name": "stdout",
     "output_type": "stream",
     "text": [
      "32/32 [==============================] - 9s 268ms/step - loss: 0.3845 - accuracy: 0.9820\n",
      "Test accuracy: 0.982\n"
     ]
    }
   ],
   "source": [
    "test_model = keras.models.load_model(\n",
    "    \"fine_tuning.keras\")\n",
    "test_loss, test_acc = test_model.evaluate(test_dataset3)\n",
    "print(f\"Test accuracy: {test_acc:.3f}\")"
   ]
  }
 ],
 "metadata": {
  "accelerator": "GPU",
  "colab": {
   "authorship_tag": "ABX9TyOEepMnpyrqOwTFBoQm/9Z3",
   "collapsed_sections": [],
   "name": "Assignment_p2.ipynb",
   "provenance": []
  },
  "hide_input": true,
  "kernelspec": {
   "display_name": "Python 3 (ipykernel)",
   "language": "python",
   "name": "python3"
  },
  "language_info": {
   "codemirror_mode": {
    "name": "ipython",
    "version": 3
   },
   "file_extension": ".py",
   "mimetype": "text/x-python",
   "name": "python",
   "nbconvert_exporter": "python",
   "pygments_lexer": "ipython3",
   "version": "3.8.12"
  }
 },
 "nbformat": 4,
 "nbformat_minor": 1
}
